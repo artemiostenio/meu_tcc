{
 "cells": [
  {
   "cell_type": "code",
   "execution_count": 22,
   "metadata": {},
   "outputs": [],
   "source": [
    "import pandas as pd\n",
    "import glob\n",
    "\n",
    "# Lista para armazenar os dataframes\n",
    "dfs = []\n",
    "\n",
    "# Loop através de cada arquivo\n",
    "for filename in glob.glob(\"POWER_Point_Hourly_20221221_20231221_*.csv\"):\n",
    "    try:\n",
    "        # Ler o arquivo para um dataframe\n",
    "        df = pd.read_csv(filename)\n",
    "\n",
    "        # Verificar se as colunas necessárias existem\n",
    "        if not all(col in df.columns for col in ['YEAR', 'MO', 'DY', 'HR']):\n",
    "            print(f\"Erro: Colunas ausentes no arquivo {filename}\")\n",
    "            # Opcional: Tentar corrigir o arquivo ou pular para o próximo arquivo\n",
    "            continue\n",
    "\n",
    "        # Adicionar o dataframe à lista\n",
    "        dfs.append(df)\n",
    "\n",
    "    except pd.errors.ParserError as e:\n",
    "        print(f\"Erro ao ler o arquivo {filename}: {e}\")\n",
    "\n",
    "# Verificar se a lista dfs não está vazia\n",
    "if dfs:\n",
    "    # Concatenar todos os dataframes\n",
    "    combined_df = dfs[0]\n",
    "    for df in dfs[1:]:\n",
    "        combined_df = pd.merge(combined_df, df, on=['YEAR', 'MO', 'DY', 'HR'], how='inner')\n",
    "\n",
    "    # Salvar o dataframe combinado para um novo arquivo CSV\n",
    "    combined_df.to_csv(\"Clima_NASA.csv\", index=False)\n",
    "\n",
    "else:\n",
    "    print(\"Nenhum arquivo foi lido com sucesso.\")\n"
   ]
  }
 ],
 "metadata": {
  "kernelspec": {
   "display_name": "projeto_fotovoltaico",
   "language": "python",
   "name": "python3"
  },
  "language_info": {
   "codemirror_mode": {
    "name": "ipython",
    "version": 3
   },
   "file_extension": ".py",
   "mimetype": "text/x-python",
   "name": "python",
   "nbconvert_exporter": "python",
   "pygments_lexer": "ipython3",
   "version": "3.11.8"
  }
 },
 "nbformat": 4,
 "nbformat_minor": 2
}
