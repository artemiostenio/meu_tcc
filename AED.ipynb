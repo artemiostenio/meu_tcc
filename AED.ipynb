{
  "cells": [
    {
      "cell_type": "markdown",
      "metadata": {
        "colab_type": "text",
        "id": "view-in-github"
      },
      "source": [
        "<a href=\"https://colab.research.google.com/github/franciscogazaniga/TCC_Aprendizado_Maquina_Previsao_Energia_Fotovoltaica/blob/main/AED.ipynb\" target=\"_parent\"><img src=\"https://colab.research.google.com/assets/colab-badge.svg\" alt=\"Open In Colab\"/></a>"
      ]
    },
    {
      "cell_type": "markdown",
      "metadata": {
        "id": "1UGlXLsnpNqY"
      },
      "source": [
        "# 1. Import"
      ]
    },
    {
      "cell_type": "code",
      "execution_count": null,
      "metadata": {
        "id": "eAMg5aC4upsZ"
      },
      "outputs": [],
      "source": [
        "%%capture\n",
        "%pip install kaleido\n",
        "%pip install plotly>=4.0.0\n",
        "!wget https://github.com/plotly/orca/releases/download/v1.2.1/orca-1.2.1-x86_64.AppImage -O /usr/local/bin/orca\n",
        "!chmod +x /usr/local/bin/orca\n",
        "!apt-get install xvfb libgtk2.0-0 libgconf-2-4"
      ]
    },
    {
      "cell_type": "code",
      "execution_count": 1,
      "metadata": {
        "colab": {
          "base_uri": "https://localhost:8080/"
        },
        "id": "2fwzYPAVpMtz",
        "outputId": "6580ec5a-7f32-4b68-932f-aef388c42654"
      },
      "outputs": [],
      "source": [
        "import math\n",
        "import numpy as np\n",
        "import pandas as pd\n",
        "import matplotlib.pyplot as plt \n",
        "import seaborn as sns \n",
        "import plotly.express as px \n",
        "import plotly.graph_objects as go \n",
        "import os \n",
        "import statsmodels.api as sm\n",
        "\n",
        "from statsmodels.stats.outliers_influence import variance_inflation_factor\n"
      ]
    },
    {
      "cell_type": "markdown",
      "metadata": {
        "id": "RlTcXlnArzrf"
      },
      "source": [
        "# 1.1 Ambiente"
      ]
    },
    {
      "cell_type": "code",
      "execution_count": null,
      "metadata": {
        "id": "G-9imXJDqpM1"
      },
      "outputs": [],
      "source": [
        "from symbol import tfpdef\n",
        "\n",
        "\n",
        "plt.style.use('seaborn-talk')\n",
        "\n",
        "if not os.path.exists(\"images\"):\n",
        "    os.mkdir(\"images\")\n",
        "\n",
        "def reset_random_seeds():\n",
        "   os.environ['PYTHONHASHSEED']=str(42)\n",
        "   tfpdef.random.set_seed(42)\n",
        "   np.random.seed(42)\n",
        "\n",
        "# Definir seu diretório aqui\n",
        "diretorioDados = '/content/drive/MyDrive/TCC/Banco de Dados'\n",
        "diretorioImagens = '/content/drive/MyDrive/TCC/Imagens'\n",
        "diretorioModelos = '/content/drive/MyDrive/TCC/Modelos'    "
      ]
    },
    {
      "cell_type": "markdown",
      "metadata": {
        "id": "dXN0sMdPrvpg"
      },
      "source": [
        "#2. Carregamento dos dados"
      ]
    },
    {
      "cell_type": "code",
      "execution_count": null,
      "metadata": {
        "id": "P6t0BocDqrLq"
      },
      "outputs": [],
      "source": [
        "# Dados de geração\n",
        "dtGeneration = pd.read_csv(diretorioDados + '/Plant_2_Generation_Data.csv')\n",
        "\n",
        "# Dados de clima\n",
        "dtWeather = pd.read_csv(diretorioDados + '/Plant_2_Weather_Sensor_Data.csv')"
      ]
    },
    {
      "cell_type": "code",
      "execution_count": null,
      "metadata": {
        "colab": {
          "base_uri": "https://localhost:8080/",
          "height": 0
        },
        "id": "sYaOtjM8qvNl",
        "outputId": "a82d0bb1-810a-4d43-b045-e243402db381"
      },
      "outputs": [],
      "source": [
        "dtGeneration.head()"
      ]
    },
    {
      "cell_type": "code",
      "execution_count": null,
      "metadata": {
        "colab": {
          "base_uri": "https://localhost:8080/",
          "height": 0
        },
        "id": "9tTeUaMVqxZd",
        "outputId": "e44d19c9-4d8f-495a-b564-26595487baf1"
      },
      "outputs": [],
      "source": [
        "dtWeather.head()"
      ]
    },
    {
      "cell_type": "code",
      "execution_count": null,
      "metadata": {
        "colab": {
          "base_uri": "https://localhost:8080/",
          "height": 0
        },
        "id": "B-eHNBlKqyrw",
        "outputId": "79493ac6-ac4d-413d-cdc3-94420925d54d"
      },
      "outputs": [],
      "source": [
        "# Une os dados de clima e geração de energia em uma única tabela\n",
        "dtUnificadaSemTratativa = pd.merge(dtGeneration, dtWeather, how = 'inner', on = 'DATE_TIME')\n",
        "dtUnificadaSemTratativa.head()"
      ]
    },
    {
      "cell_type": "code",
      "execution_count": null,
      "metadata": {
        "colab": {
          "base_uri": "https://localhost:8080/"
        },
        "id": "i7bHSeHoq0Pa",
        "outputId": "a1eb0bee-52f0-4620-eb47-c29d75b2da34"
      },
      "outputs": [],
      "source": [
        "# Verificação de valores únicos\n",
        "print(dtUnificadaSemTratativa.nunique())"
      ]
    },
    {
      "cell_type": "markdown",
      "metadata": {
        "id": "roE0SPI8rU50"
      },
      "source": [
        "As colunas \"PLANT_ID_x\" e \"PLANT_ID_y\" possuem um valor único e correspondem ao mesmo valor, que indica que os dados se referem a Planta 2, portanto estas colunas serão desnecessárias na análise dos dados e serão excluidas. A coluna \"SOURCE_KEY_y\" será também excluída, visto que se refere ao sensor de temperatura, cujo é unitário."
      ]
    },
    {
      "cell_type": "code",
      "execution_count": null,
      "metadata": {
        "id": "97f6pemJrUQ3"
      },
      "outputs": [],
      "source": [
        "# Exclui colunas \"PLANT_ID_x\", \"PLANT_ID_y\" e SOURCE_KEY_y\"\n",
        "dtUnificadaTrativa1 = dtUnificadaSemTratativa.drop(columns=['PLANT_ID_x', 'PLANT_ID_y', 'SOURCE_KEY_y'])\n",
        "\n",
        "# Renomeia coluna \"SOURCE_KEY_x\" para \"SOURCE_KEY\"\n",
        "dtUnificadaTrativa2 = dtUnificadaTrativa1.rename(columns={'SOURCE_KEY_x': 'SOURCE_KEY'})"
      ]
    },
    {
      "cell_type": "code",
      "execution_count": null,
      "metadata": {
        "colab": {
          "base_uri": "https://localhost:8080/",
          "height": 0
        },
        "id": "Y-3UuB5jrb76",
        "outputId": "aeea6bcb-c6ef-486b-c253-fcdef15dd2de"
      },
      "outputs": [],
      "source": [
        "dtUnificadaTrativa2.head()"
      ]
    },
    {
      "cell_type": "code",
      "execution_count": null,
      "metadata": {
        "colab": {
          "base_uri": "https://localhost:8080/"
        },
        "id": "jDkn8VlfrcZl",
        "outputId": "b455a7f7-a35f-4978-e45c-72fa6812776a"
      },
      "outputs": [],
      "source": [
        "# Verifica quantidade de linhas e colunas das tabelas\n",
        "print(dtGeneration.shape, dtWeather.shape, dtUnificadaTrativa2.shape)"
      ]
    },
    {
      "cell_type": "markdown",
      "metadata": {
        "id": "IWpBuLMwrg4s"
      },
      "source": [
        "Pode-se constatar que a dtUnificadaTrativa2 contêm a mesma quantidade de linhas que a dtGeneration, tabela com mais dados que a dtWeather. Possui mais dados devido a quantidade de inversores na dtGeneration ser maior do que a quantidade de sensores na dtWeather."
      ]
    },
    {
      "cell_type": "markdown",
      "metadata": {
        "id": "ujobuFb6rozO"
      },
      "source": [
        "# 3. Análise Exploratória de Dados"
      ]
    },
    {
      "cell_type": "code",
      "execution_count": null,
      "metadata": {
        "colab": {
          "base_uri": "https://localhost:8080/"
        },
        "id": "L3ltPdxmrgAB",
        "outputId": "9ad99067-3967-403a-8517-6931bfeeb411"
      },
      "outputs": [],
      "source": [
        "dtUnificadaTrativa2.dtypes"
      ]
    },
    {
      "cell_type": "code",
      "execution_count": null,
      "metadata": {
        "id": "mSXT-o5psOEQ"
      },
      "outputs": [],
      "source": [
        "# Realizada uma cópia dos dados para um dataset onde serão processados os dados\n",
        "dtUnificadaTrativa3 = dtUnificadaTrativa2.copy()\n",
        "\n",
        "# Convertendo a coluna 'date' para 'datetime'\n",
        "dtUnificadaTrativa3['DATE_TIME'] = pd.to_datetime(dtUnificadaTrativa3['DATE_TIME'], format='%Y-%m-%d %H:%M:%S')"
      ]
    },
    {
      "cell_type": "code",
      "execution_count": null,
      "metadata": {
        "colab": {
          "base_uri": "https://localhost:8080/"
        },
        "id": "YLAIUUvjsQnZ",
        "outputId": "42ea922f-140d-4822-c797-6cfa58fa7082"
      },
      "outputs": [],
      "source": [
        "dtUnificadaTrativa3.dtypes"
      ]
    },
    {
      "cell_type": "code",
      "execution_count": null,
      "metadata": {
        "colab": {
          "base_uri": "https://localhost:8080/",
          "height": 206
        },
        "id": "y7Wx1TSzsR1y",
        "outputId": "3cece1f1-f93b-441c-b5c7-9e622e9242e0"
      },
      "outputs": [],
      "source": [
        "dtUnificadaTrativa3.head()"
      ]
    },
    {
      "cell_type": "markdown",
      "metadata": {
        "id": "fNXnXdhwsTk-"
      },
      "source": [
        "## 3.1 Validação das linhas de dados na amostra"
      ]
    },
    {
      "cell_type": "code",
      "execution_count": null,
      "metadata": {
        "colab": {
          "base_uri": "https://localhost:8080/",
          "height": 300
        },
        "id": "a92CEXNmsVkk",
        "outputId": "54826995-7e06-440b-b862-6c962b3e7a43"
      },
      "outputs": [],
      "source": [
        "dtUnificadaTrativa3.describe()"
      ]
    },
    {
      "cell_type": "markdown",
      "metadata": {
        "id": "uuMWYcm3sYu_"
      },
      "source": [
        "Percebe-se uma grande quantidade de valores iguais a zero para a geração de energia no dataset, visto que o monitoramento continua durante o período da noite, isto faz sentido, no entanto, pode ser que o registro dos inversores tenha sido igual a zero mesmo durante o dia, antes de analisar isto, será verificado se existe algum valor faltante ou duplicado no conjunto de dados."
      ]
    },
    {
      "cell_type": "code",
      "execution_count": null,
      "metadata": {
        "colab": {
          "base_uri": "https://localhost:8080/"
        },
        "id": "hdz38NGAsXA1",
        "outputId": "4abadec8-0082-4c13-c112-0e17515c1335"
      },
      "outputs": [],
      "source": [
        "# Verificação de valor missing/NA\n",
        "print(dtUnificadaTrativa3.isna().sum())"
      ]
    },
    {
      "cell_type": "markdown",
      "metadata": {
        "id": "aKui5UC2sb2i"
      },
      "source": [
        "Não existem valores faltantes, classificados como NaN, na amostra."
      ]
    },
    {
      "cell_type": "code",
      "execution_count": null,
      "metadata": {
        "colab": {
          "base_uri": "https://localhost:8080/"
        },
        "id": "5YEcAN7OscYC",
        "outputId": "d60f3579-238d-42e3-b6b5-0feaa1fc3c2c"
      },
      "outputs": [],
      "source": [
        "# Verificar se existem valores duplicados\n",
        "print(sum(dtUnificadaTrativa3.duplicated()))"
      ]
    },
    {
      "cell_type": "markdown",
      "metadata": {
        "id": "twUgZujSsiHE"
      },
      "source": [
        "Não existem dados duplicados.\n",
        "Não existir valores faltantes na amostra não indica que não está faltando alguma linha com informação. Visto que para os dados de geração de energia, as aferições são realizadas a cada 15 minutos, e a coleta foi feita por um período de 24 horas durante 34 dias, para 22 inversores, se tem que a quantidade de linhas para este conjunto de dados deveria ser igual a 71.808, e como vimos anteriormente, a tabela de dados possui apenas 67.698 linhas de dados, o que indica que em alguns momentos das aferições não houveram registro de informação.\n",
        "\n",
        "Para um único inversor, deve haver 3.264 linhas de dados, portanto, a seguir será verificado a quantidade de linhas gerada por cada inversor."
      ]
    },
    {
      "cell_type": "code",
      "execution_count": null,
      "metadata": {
        "colab": {
          "base_uri": "https://localhost:8080/"
        },
        "id": "n3E-xIyPsnlc",
        "outputId": "ed84bfc0-1988-4ede-98f1-df2ab6e95f1e"
      },
      "outputs": [],
      "source": [
        "# Quantidade de instâncias para cada inversor no conjunto de dados\n",
        "dtUnificadaTrativa3[\"SOURCE_KEY\"].value_counts()"
      ]
    },
    {
      "cell_type": "code",
      "execution_count": null,
      "metadata": {
        "colab": {
          "base_uri": "https://localhost:8080/",
          "height": 463
        },
        "id": "k4AzkhVesqbE",
        "outputId": "5cf5dba1-eee5-4fec-c88a-0ec92d02b077"
      },
      "outputs": [],
      "source": [
        "inversor1 = dtUnificadaTrativa3.loc[dtUnificadaTrativa3['SOURCE_KEY'] == '4UPUqMRk7TRMgml']\n",
        "inversor2 = dtUnificadaTrativa3.loc[dtUnificadaTrativa3['SOURCE_KEY'] == '81aHJ1q11NBPMrL']\n",
        "inversor3 = dtUnificadaTrativa3.loc[dtUnificadaTrativa3['SOURCE_KEY'] == '9kRcWv60rDACzjR']\n",
        "inversor4 = dtUnificadaTrativa3.loc[dtUnificadaTrativa3['SOURCE_KEY'] == 'Et9kgGMDl729KT4']\n",
        "inversor5 = dtUnificadaTrativa3.loc[dtUnificadaTrativa3['SOURCE_KEY'] == 'IQ2d7wF4YD8zU1Q']\n",
        "inversor6 = dtUnificadaTrativa3.loc[dtUnificadaTrativa3['SOURCE_KEY'] == 'LYwnQax7tkwH5Cb']\n",
        "inversor7 = dtUnificadaTrativa3.loc[dtUnificadaTrativa3['SOURCE_KEY'] == 'LlT2YUhhzqhg5Sw']\n",
        "inversor8 = dtUnificadaTrativa3.loc[dtUnificadaTrativa3['SOURCE_KEY'] == 'Mx2yZCDsyf6DPfv']\n",
        "inversor9 = dtUnificadaTrativa3.loc[dtUnificadaTrativa3['SOURCE_KEY'] == 'NgDl19wMapZy17u']\n",
        "inversor10 = dtUnificadaTrativa3.loc[dtUnificadaTrativa3['SOURCE_KEY'] == 'PeE6FRyGXUgsRhN']\n",
        "inversor11 = dtUnificadaTrativa3.loc[dtUnificadaTrativa3['SOURCE_KEY'] == 'Qf4GUc1pJu5T6c6']\n",
        "inversor12 = dtUnificadaTrativa3.loc[dtUnificadaTrativa3['SOURCE_KEY'] == 'Quc1TzYxW2pYoWX']\n",
        "inversor13 = dtUnificadaTrativa3.loc[dtUnificadaTrativa3['SOURCE_KEY'] == 'V94E5Ben1TlhnDV']\n",
        "inversor14 = dtUnificadaTrativa3.loc[dtUnificadaTrativa3['SOURCE_KEY'] == 'WcxssY2VbP4hApt']\n",
        "inversor15 = dtUnificadaTrativa3.loc[dtUnificadaTrativa3['SOURCE_KEY'] == 'mqwcsP2rE7J0TFp']\n",
        "inversor16 = dtUnificadaTrativa3.loc[dtUnificadaTrativa3['SOURCE_KEY'] == 'oZ35aAeoifZaQzV']\n",
        "inversor17 = dtUnificadaTrativa3.loc[dtUnificadaTrativa3['SOURCE_KEY'] == 'oZZkBaNadn6DNKz']\n",
        "inversor18 = dtUnificadaTrativa3.loc[dtUnificadaTrativa3['SOURCE_KEY'] == 'q49J1IKaHRwDQnt']\n",
        "inversor19 = dtUnificadaTrativa3.loc[dtUnificadaTrativa3['SOURCE_KEY'] == 'rrq4fwE8jgrTyWY']\n",
        "inversor20 = dtUnificadaTrativa3.loc[dtUnificadaTrativa3['SOURCE_KEY'] == 'vOuJvMaM2sgwLmb']\n",
        "inversor21 = dtUnificadaTrativa3.loc[dtUnificadaTrativa3['SOURCE_KEY'] == 'xMbIugepa2P7lBB']\n",
        "inversor22 = dtUnificadaTrativa3.loc[dtUnificadaTrativa3['SOURCE_KEY'] == 'xoJJ8DcxJEcupym']\n",
        "\n",
        "inversores = ['4UPUqMRk7TRMgml', '81aHJ1q11NBPMrL', '9kRcWv60rDACzjR', 'Et9kgGMDl729KT4', 'IQ2d7wF4YD8zU1Q', 'LYwnQax7tkwH5Cb', 'LlT2YUhhzqhg5Sw', 'Mx2yZCDsyf6DPfv', 'NgDl19wMapZy17u', 'PeE6FRyGXUgsRhN', 'Qf4GUc1pJu5T6c6', 'Quc1TzYxW2pYoWX', 'V94E5Ben1TlhnDV', 'WcxssY2VbP4hApt', 'mqwcsP2rE7J0TFp', 'oZ35aAeoifZaQzV', 'oZZkBaNadn6DNKz', 'q49J1IKaHRwDQnt', 'rrq4fwE8jgrTyWY', 'vOuJvMaM2sgwLmb', 'xMbIugepa2P7lBB', 'xoJJ8DcxJEcupym']\n",
        "quantidade_de_linhas = [(inversor1.shape[0]), (inversor2.shape[0]), (inversor3.shape[0]), (inversor4.shape[0]), (inversor5.shape[0]), (inversor6.shape[0]), (inversor7.shape[0]), (inversor8.shape[0]), (inversor9.shape[0]), (inversor10.shape[0]), (inversor11.shape[0]), (inversor12.shape[0]), (inversor13.shape[0]), (inversor14.shape[0]), (inversor15.shape[0]), (inversor16.shape[0]), (inversor17.shape[0]), (inversor18.shape[0]), (inversor19.shape[0]), (inversor20.shape[0]), (inversor21.shape[0]), (inversor22.shape[0])]\n",
        "\n",
        "cor = ['royalblue' if (inversores == 3259) else 'coral' if (inversores == 3195) else 'tomato' for inversores in quantidade_de_linhas ]\n",
        "#ordem = ['royalblue', 'coral', 'tomato']\n",
        "\n",
        "sns.barplot(x=quantidade_de_linhas, y=inversores, palette=cor)\n",
        "plt.xlabel('Quantidade de linhas no conjunto de dados')\n",
        "plt.savefig(diretorioImagens + '/qtdlinhasinversores.png', format='png', bbox_inches='tight')\n",
        "plt.show()\n",
        "\n",
        "#fig = px.bar(labels={\"x\": \"Quantidade de linhas no conjunto de dados\", \"y\": \"Inversor\"}, x=quantidade_de_linhas, y=inversores, color=cor, width=800)\n",
        "#fig.update_yaxes(categoryorder=\"total ascending\")"
      ]
    },
    {
      "cell_type": "markdown",
      "metadata": {
        "id": "JApOxTZqs1LV"
      },
      "source": [
        "Analisando o gráfico gerado, percebe-se que nenhum inversor gerou as 3.264 linhas de dados esperadas, no entanto, a maioria (em azul) gerou 3.259 linhas de dados, o que é muito próximo do esperado. Nota-se ainda que houve um padrão em relação ao registro dos dados, sendo 12 inversores com 3.259 linhas de informação, 6 com 3.195 linhas e 4 com 2.355 linhas de dados.\n",
        "\n",
        "Para a previsão de geração de energia fotovoltaica, serão considerados os 12 inversores que apresentaram uma maior quantidade de linhas de dados para os 34 dias."
      ]
    },
    {
      "cell_type": "code",
      "execution_count": null,
      "metadata": {
        "colab": {
          "base_uri": "https://localhost:8080/",
          "height": 206
        },
        "id": "oZbRmqd9sxii",
        "outputId": "e0e50a41-58f7-4cb4-b700-71dd7decbe27"
      },
      "outputs": [],
      "source": [
        "# Removendo inversores com menos de 3.259 linhas de dados da amostra\n",
        "dtUnificadaTrativa4 = dtUnificadaTrativa3.drop(inversor21.index)\n",
        "dtUnificadaTrativa4 = dtUnificadaTrativa4.drop(inversor15.index)\n",
        "dtUnificadaTrativa4 = dtUnificadaTrativa4.drop(inversor9.index)\n",
        "dtUnificadaTrativa4 = dtUnificadaTrativa4.drop(inversor5.index)\n",
        "dtUnificadaTrativa4 = dtUnificadaTrativa4.drop(inversor16.index)\n",
        "dtUnificadaTrativa4 = dtUnificadaTrativa4.drop(inversor12.index)\n",
        "dtUnificadaTrativa4 = dtUnificadaTrativa4.drop(inversor11.index)\n",
        "dtUnificadaTrativa4 = dtUnificadaTrativa4.drop(inversor8.index)\n",
        "dtUnificadaTrativa4 = dtUnificadaTrativa4.drop(inversor4.index)\n",
        "dtUnificadaTrativa4 = dtUnificadaTrativa4.drop(inversor1.index)\n",
        "\n",
        "dtUnificadaTrativa4.head()"
      ]
    },
    {
      "cell_type": "code",
      "execution_count": null,
      "metadata": {
        "colab": {
          "base_uri": "https://localhost:8080/"
        },
        "id": "RjSCBGtZs5BY",
        "outputId": "ed2f6e47-d25b-4abe-a927-a2c1b2f43c34"
      },
      "outputs": [],
      "source": [
        "dtUnificadaTrativa4.info()"
      ]
    },
    {
      "cell_type": "code",
      "execution_count": null,
      "metadata": {
        "colab": {
          "base_uri": "https://localhost:8080/"
        },
        "id": "s_-a84rts6jd",
        "outputId": "da7680b0-de0a-4c74-b337-2da980b0a51e"
      },
      "outputs": [],
      "source": [
        "dtUnificadaTrativa4.shape"
      ]
    },
    {
      "cell_type": "markdown",
      "metadata": {
        "id": "9JmZq7lts9oW"
      },
      "source": [
        "Sendo 12 inversores, cada um registrando informações a cada 15 minutos, se tem que em um período de 6 horas, serão necessários 576 registros de dados. O gráfico a seguir identifica em quais dias não houveram esta quantidade de registro de dados.\n",
        "\n",
        "Percebe-se que a falta ocorreu nos dias 15, 19 e 29 de maio, e nos dias 1 e 3 de junho."
      ]
    },
    {
      "cell_type": "code",
      "execution_count": null,
      "metadata": {
        "colab": {
          "base_uri": "https://localhost:8080/",
          "height": 542
        },
        "id": "yhnzp1Z3s-Ji",
        "outputId": "f2a6405d-772d-46f1-8bf9-a45adc7b2ec4"
      },
      "outputs": [],
      "source": [
        "# Quantidade de registros de potência DC em um período de 6 horas\n",
        "fig = px.histogram(dtUnificadaTrativa4, labels={\"DATE_TIME\": \"Data\"}, x=\"DATE_TIME\")\n",
        "fig.update_yaxes(title_text='Quantidade de registros de Potência DC')"
      ]
    },
    {
      "cell_type": "markdown",
      "metadata": {
        "id": "h7B5O9mytDm6"
      },
      "source": [
        "## 3.2 Potência AC e DC geradas"
      ]
    },
    {
      "cell_type": "code",
      "execution_count": null,
      "metadata": {
        "id": "zCP1aqhStEmy"
      },
      "outputs": [],
      "source": [
        "# Potência AC e DC média gerada em um período de 6 horas\n",
        "x = dtUnificadaTrativa4[\"DATE_TIME\"]\n",
        "y1 = dtUnificadaTrativa4[\"AC_POWER\"]\n",
        "y2 = dtUnificadaTrativa4[\"DC_POWER\"]\n",
        "\n",
        "layout = go.Layout(\n",
        "    autosize=False,\n",
        "    width=800,\n",
        "    height=250,\n",
        "\n",
        "    margin=go.layout.Margin(\n",
        "    l=10,\n",
        "    r=10,\n",
        "    b=10,\n",
        "    t=10,\n",
        "    pad = 4\n",
        ")\n",
        ")\n",
        "\n",
        "fig = go.Figure(layout = layout)\n",
        "fig.add_trace(go.Histogram(histfunc=\"avg\", y=y2, x=x, name=\"Potência DC\"))\n",
        "fig.add_trace(go.Histogram(histfunc=\"avg\", y=y1, x=x, name=\"Potência AC\"))\n",
        "\n",
        "fig.update_layout(barmode='overlay')\n",
        "fig.update_traces(opacity=0.5)\n",
        "\n",
        "fig.update_yaxes(title_text='Potência média (kW)')\n",
        "\n",
        "fig.write_image(diretorioImagens + '/pot_ac_dc_media.png')"
      ]
    },
    {
      "cell_type": "code",
      "execution_count": null,
      "metadata": {
        "id": "oQz9Ie9_T_1S"
      },
      "outputs": [],
      "source": [
        "# Potência AC e DC total gerada em um período de 6 horas\n",
        "x = dtUnificadaTrativa4[\"DATE_TIME\"]\n",
        "y1 = dtUnificadaTrativa4[\"AC_POWER\"]\n",
        "y2 = dtUnificadaTrativa4[\"DC_POWER\"]\n",
        "\n",
        "layout = go.Layout(\n",
        "    autosize=False,\n",
        "    width=800,\n",
        "    height=250,\n",
        "\n",
        "    margin=go.layout.Margin(\n",
        "    l=10,\n",
        "    r=10,\n",
        "    b=10,\n",
        "    t=10,\n",
        "    pad = 4\n",
        ")\n",
        ")\n",
        "\n",
        "fig = go.Figure(layout = layout)\n",
        "fig.add_trace(go.Histogram(y=y2, x=x, name=\"Potência DC\", histfunc='sum'))\n",
        "fig.add_trace(go.Histogram(y=y1, x=x, name=\"Potência AC\", histfunc='sum'))\n",
        "\n",
        "fig.update_layout(barmode='overlay')\n",
        "fig.update_traces(opacity=0.5)\n",
        "\n",
        "fig.update_yaxes(title_text='Potência total (kW)')\n",
        "\n",
        "fig.write_image(diretorioImagens + '/pot_ac_dc_total.png')"
      ]
    },
    {
      "cell_type": "code",
      "execution_count": null,
      "metadata": {
        "colab": {
          "base_uri": "https://localhost:8080/",
          "height": 425
        },
        "id": "ZDJVzJYYTm68",
        "outputId": "0ba99bcd-d2d7-4735-f500-8140f2898c78"
      },
      "outputs": [],
      "source": [
        "# Perdas na geração de energia\n",
        "perdas=dtUnificadaTrativa4.copy() # Copia conteúdo da tabela de dados da planta\n",
        "perdas['data']=perdas['DATE_TIME'].dt.date # Reune os dados de data somente\n",
        "perdas=perdas.groupby('data').sum() # Agrupa todos os dados para as 34 datas\n",
        "perdas['perdas']=perdas['AC_POWER']/perdas['DC_POWER']*100 # Reune os dados de energia real convertida\n",
        "\n",
        "perdas['perdas'].plot(style='o--',figsize=(12,5),label='Energia Real') # Plota os dados de energia real convertida\n",
        "\n",
        "print('Perdas média: ', perdas['perdas'].mean())\n",
        "\n",
        "plt.ylabel('Potência DC convertida (%)',fontsize=12)\n",
        "plt.xlabel('Data',fontsize=12)\n",
        "plt.axhline(perdas['perdas'].mean(),linestyle='--',color='green',label='Média') # Plota linha com a média dos dados de energia convertida\n",
        "plt.xticks(rotation = 90)\n",
        "plt.legend()\n",
        "plt.savefig(diretorioImagens + '/porcentagemEnergiaConvertida.png', format='png', bbox_inches='tight')\n",
        "plt.show()"
      ]
    },
    {
      "cell_type": "markdown",
      "metadata": {
        "id": "7gJMDOjWUD_U"
      },
      "source": [
        "## 3.3 Irradiação"
      ]
    },
    {
      "cell_type": "code",
      "execution_count": null,
      "metadata": {
        "id": "b_aFOHmsUGGB"
      },
      "outputs": [],
      "source": [
        "layout = go.Layout(\n",
        "    autosize=False,\n",
        "    width=800,\n",
        "    height=100,\n",
        "\n",
        "    margin=go.layout.Margin(\n",
        "    l=0,\n",
        "    r=0,\n",
        "    b=0,\n",
        "    t=0,\n",
        "    pad = 0\n",
        ")\n",
        ")\n",
        "\n",
        "# Irradiação média gerada em um período de 6 horas\n",
        "fig = go.Figure(layout = layout)\n",
        "fig = px.histogram(dtUnificadaTrativa4, labels={\"DATE_TIME\": \"Data\"}, x=\"DATE_TIME\", y=\"IRRADIATION\", histfunc='avg')\n",
        "fig.update_yaxes(title_text='Irradiação média (W/m²)')\n",
        "\n",
        "fig.write_image(diretorioImagens + '/irradiacao_media.png')"
      ]
    },
    {
      "cell_type": "markdown",
      "metadata": {
        "id": "cc6zzBXHUUM_"
      },
      "source": [
        "## 3.4 Temperatura"
      ]
    },
    {
      "cell_type": "code",
      "execution_count": null,
      "metadata": {
        "id": "c96kX3hLUXVX"
      },
      "outputs": [],
      "source": [
        "# Temperatura do módulo média gerada em um período de 6 horas\n",
        "x = dtUnificadaTrativa4[\"DATE_TIME\"]\n",
        "y1 = dtUnificadaTrativa4[\"AMBIENT_TEMPERATURE\"]\n",
        "y2 = dtUnificadaTrativa4[\"MODULE_TEMPERATURE\"]\n",
        "\n",
        "layout = go.Layout(\n",
        "    autosize=False,\n",
        "    width=800,\n",
        "    height=250,\n",
        "\n",
        "    margin=go.layout.Margin(\n",
        "    l=10,\n",
        "    r=10,\n",
        "    b=10,\n",
        "    t=10,\n",
        "    pad = 4\n",
        ")\n",
        ")\n",
        "\n",
        "fig = go.Figure(layout = layout)\n",
        "fig.add_trace(go.Histogram(histfunc=\"avg\", y=y1, x=x, name=\"Temp. Ambiente\"))\n",
        "fig.add_trace(go.Histogram(histfunc=\"avg\", y=y2, x=x, name=\"Temp. Módulo\"))\n",
        "\n",
        "fig.update_layout(barmode='overlay')\n",
        "fig.update_traces(opacity=0.5)\n",
        "\n",
        "fig.update_yaxes(title_text='Temperatura média (ºC)')\n",
        "fig.write_image(diretorioImagens + '/Temperatura_media.png')"
      ]
    },
    {
      "cell_type": "markdown",
      "metadata": {
        "id": "NTIVH6QdUwF4"
      },
      "source": [
        "## 3.5 Simetria dos Dados"
      ]
    },
    {
      "cell_type": "markdown",
      "metadata": {
        "id": "8DAiUDTrU3e3"
      },
      "source": [
        "Antes de verificar a simetria das variáveis, serão criados mais dois atributos. Visto que dados de geração de energia solar dependem da sazonalidade, serão criadas as colunas \"HOUR\" e \"DAY\", de modo a identificar se estas possuem correlação com o atributo alvo, potência AC."
      ]
    },
    {
      "cell_type": "code",
      "execution_count": null,
      "metadata": {
        "id": "rmLDMhL4Uzz3"
      },
      "outputs": [],
      "source": [
        "dtUnificadaTratativa4_1 = dtUnificadaTrativa4.copy()\n",
        "\n",
        "# Criando colunas de mês, dia e hora\n",
        "dtUnificadaTratativa4_1['DAY'] = dtUnificadaTratativa4_1['DATE_TIME'].dt.day\n",
        "dtUnificadaTratativa4_1['HOUR'] = dtUnificadaTratativa4_1['DATE_TIME'].dt.hour"
      ]
    },
    {
      "cell_type": "code",
      "execution_count": null,
      "metadata": {
        "colab": {
          "base_uri": "https://localhost:8080/",
          "height": 424
        },
        "id": "hfiqnED1U2AV",
        "outputId": "23b0011b-c6a8-4eed-f68a-3a016922b490"
      },
      "outputs": [],
      "source": [
        "dtUnificadaTratativa4_1"
      ]
    },
    {
      "cell_type": "code",
      "execution_count": null,
      "metadata": {
        "colab": {
          "base_uri": "https://localhost:8080/"
        },
        "id": "rjXaBa3bU4jJ",
        "outputId": "61a517fc-1a01-4ebe-ad6e-9e79ca665df4"
      },
      "outputs": [],
      "source": [
        "list(dtUnificadaTratativa4_1)"
      ]
    },
    {
      "cell_type": "markdown",
      "metadata": {
        "id": "SrpS061RU8VD"
      },
      "source": [
        "Para uma simetria perfeita, espera-se valores muito próximos de 0."
      ]
    },
    {
      "cell_type": "code",
      "execution_count": null,
      "metadata": {
        "colab": {
          "base_uri": "https://localhost:8080/"
        },
        "id": "l26OP64-U6TU",
        "outputId": "0bca789f-c53f-4012-91c9-c09f12eadc86"
      },
      "outputs": [],
      "source": [
        "print(dtUnificadaTratativa4_1.skew(), '\\nSoma:', sum(abs(dtUnificadaTratativa4_1.skew())))"
      ]
    },
    {
      "cell_type": "markdown",
      "metadata": {
        "id": "n5FRQhTdVAeJ"
      },
      "source": [
        "Os atributos de geração de energia (AC_POWER e DC_POWER) e irradiação apresentam uma simetria acima de zero, isto pode ser devido a calda-longa apresentada pelos histogramas a seguir."
      ]
    },
    {
      "cell_type": "code",
      "execution_count": null,
      "metadata": {
        "colab": {
          "base_uri": "https://localhost:8080/",
          "height": 983
        },
        "id": "RHEMOf5SVBBF",
        "outputId": "c6b3b7cc-385d-4f96-fdec-97a68ed67bcc"
      },
      "outputs": [],
      "source": [
        "# Gerar um histograma para cada atributo numérico\n",
        "dtSimetria = dtUnificadaTratativa4_1.drop(['DATE_TIME', 'DAY', 'HOUR'], axis = 1)\n",
        "dtSimetria.hist(bins=50, figsize=(10,30), layout=(7,2))\n",
        "plt.savefig(diretorioImagens + '/simetria_1.png', format='png', bbox_inches='tight')\n",
        "plt.show()"
      ]
    },
    {
      "cell_type": "markdown",
      "metadata": {
        "id": "O3E5yBc4VH3I"
      },
      "source": [
        "Percebe-se que na variável de geração de energia (AC_POWER) e para a variável de irradiação, se tem uma tail-havy (calda-longa) no valor nulo, isto se dá pois durante a noite não existe irradiação solar e consequentemente não se tem geração de energia.\n",
        "\n",
        "O gráfico a seguir, mostra que para todos os inversores, no período entre as 19h e 5h, o valor é nulo, logo, não será necessário considerar este intervalo na previsão."
      ]
    },
    {
      "cell_type": "code",
      "execution_count": null,
      "metadata": {
        "colab": {
          "base_uri": "https://localhost:8080/",
          "height": 509
        },
        "id": "y7zalk_ZVJdI",
        "outputId": "be39d63e-9571-4acc-b285-2370dda6311e"
      },
      "outputs": [],
      "source": [
        "inversores = dtUnificadaTratativa4_1.copy()\n",
        "inversores['Horário'] = inversores['DATE_TIME'].dt.hour # Retorna um array com os dados de hora\n",
        "inversores.set_index('Horário').groupby('SOURCE_KEY')['AC_POWER'].plot(style='o', legend=True, figsize=(13,8))\n",
        "\n",
        "#plt.title('Potência AC Gerada durante o dia para todos os inversores', size=17)\n",
        "plt.ylabel('Potência AC (kW)', fontsize=15)\n",
        "plt.legend()\n",
        "plt.savefig(diretorioImagens + '/energia_AC_total.png', format='png', bbox_inches='tight')\n",
        "plt.show()"
      ]
    },
    {
      "cell_type": "code",
      "execution_count": null,
      "metadata": {
        "colab": {
          "base_uri": "https://localhost:8080/",
          "height": 300
        },
        "id": "cyOgqfYGVLhS",
        "outputId": "2e6d45ad-7b39-49a3-9f46-1bad957a074f"
      },
      "outputs": [],
      "source": [
        "# Removendo intervalo onde a geração de enegia é nula\n",
        "filtro = (dtUnificadaTratativa4_1['DATE_TIME'].dt.hour > 5) & (dtUnificadaTratativa4_1['DATE_TIME'].dt.hour < 19)\n",
        "\n",
        "dtUnificadaTratativa4_2 = dtUnificadaTratativa4_1[filtro]\n",
        "\n",
        "dtUnificadaTratativa4_2.describe()"
      ]
    },
    {
      "cell_type": "code",
      "execution_count": null,
      "metadata": {
        "colab": {
          "base_uri": "https://localhost:8080/",
          "height": 618
        },
        "id": "vIm3muk0VMyR",
        "outputId": "a12a9363-10d4-48e3-cd90-af3982415c6c"
      },
      "outputs": [],
      "source": [
        "inversores = dtUnificadaTratativa4_2.copy()\n",
        "inversores['Horário'] = inversores['DATE_TIME'].dt.hour # Retorna um array com os dados de hora\n",
        "inversores.set_index('Horário').groupby('SOURCE_KEY')['AC_POWER'].plot(style='o', legend=True, figsize=(13,10))\n",
        "\n",
        "plt.ylabel('Potência AC (kW)', fontsize=17)\n",
        "plt.legend()\n",
        "plt.savefig(diretorioImagens + '/energia_AC_total_6-18.png', format='png', bbox_inches='tight')\n",
        "plt.show()"
      ]
    },
    {
      "cell_type": "code",
      "execution_count": null,
      "metadata": {
        "colab": {
          "base_uri": "https://localhost:8080/",
          "height": 983
        },
        "id": "8H86Tu9UVOHc",
        "outputId": "d8556411-fb7f-4115-c8dc-76e1104b6ca1"
      },
      "outputs": [],
      "source": [
        "# Gerar um histograma para cada atributo numérico\n",
        "dtSimetria = dtUnificadaTratativa4_2.drop(['DATE_TIME', 'DAY', 'HOUR'], axis = 1)\n",
        "dtSimetria.hist(bins=50, figsize=(10,30), layout=(7,2))\n",
        "plt.savefig(diretorioImagens + '/simetria_2.png', format='png', bbox_inches='tight')\n",
        "plt.show()"
      ]
    },
    {
      "cell_type": "markdown",
      "metadata": {
        "id": "ZnYfLXYGVQF1"
      },
      "source": [
        "Mesmo removendo o intervalo onde a geração de energia deveria ser nula, percebe-se que os histrogramas ainda apresentam uma calda-longa. O que pode indicar um mau funcionamento dos inversores. Serão reunidos os valores nulos em uma amostra, para identificar o período em que estes ocorrem e se a irradiação possui influência sobre estes valores."
      ]
    },
    {
      "cell_type": "code",
      "execution_count": null,
      "metadata": {
        "id": "NEJ_5S1VVQkV"
      },
      "outputs": [],
      "source": [
        "# Reunir os valores nulos de energia\n",
        "dataframe = dtUnificadaTratativa4_2.copy()\n",
        "filtro = dtUnificadaTratativa4_2['AC_POWER'] == 0\n",
        "\n",
        "geracaoACNula = dataframe[filtro]"
      ]
    },
    {
      "cell_type": "code",
      "execution_count": null,
      "metadata": {
        "colab": {
          "base_uri": "https://localhost:8080/",
          "height": 542
        },
        "id": "i6D5Hn7yVSQA",
        "outputId": "09d4cd48-fa65-41ac-d31a-0bd1b4644bf5"
      },
      "outputs": [],
      "source": [
        "# Histograma com as quantidade de valores nulos \n",
        "diasNulos = geracaoACNula['DATE_TIME'].dt.hour\n",
        "\n",
        "fig = px.histogram(geracaoACNula, labels={\"x\": \"Data\"}, x=diasNulos, y=\"AC_POWER\", histfunc='count')\n",
        "fig.update_yaxes(title_text='Quantidade de valores nulos durante os 34 dias')"
      ]
    },
    {
      "cell_type": "code",
      "execution_count": null,
      "metadata": {
        "id": "wThCHJRtVUwW"
      },
      "outputs": [],
      "source": [
        "# Histograma com a média de irradiação para quando a geração de energia foi nula\n",
        "diasNulos = geracaoACNula['DATE_TIME'].dt.hour\n",
        "\n",
        "layout = go.Layout(\n",
        "    autosize=False,\n",
        "    width=800,\n",
        "    height=250,\n",
        "\n",
        "    margin=go.layout.Margin(\n",
        "    l=0,\n",
        "    r=0,\n",
        "    b=0,\n",
        "    t=0,\n",
        "    pad = 0\n",
        ")\n",
        ")\n",
        "\n",
        "fig = go.Figure(layout = layout)\n",
        "fig = px.histogram(geracaoACNula, labels={'x': \"Hora\"}, x=diasNulos, y=\"IRRADIATION\", histfunc='avg')\n",
        "fig.update_yaxes(title_text='Irradiação solar média para os valores nulos (W/m²)')\n",
        "\n",
        "fig.write_image(diretorioImagens + '/irradiacao_valores_nulos.png')"
      ]
    },
    {
      "cell_type": "markdown",
      "metadata": {
        "id": "uJ_5CDnoVYr6"
      },
      "source": [
        "Pode-se ver que a irradiação seguiu um padrão normal, ou seja, os valores nulos de geração de energia apresentados entre as 7h e 17h estão incorretos, o que pode indicar um mau funcionamento dos inversores, ou pode ter sido um período em que foi feita alguma manutenção e o sistema foi desligado. Na figura a seguir fica evidente o comportamento inesperado para alguns dos 12 inversores."
      ]
    },
    {
      "cell_type": "markdown",
      "metadata": {
        "id": "3Js9QsjkVchm"
      },
      "source": [
        "Os valores nulos de geração de energia neste intervalo serão substituídos pelo seu valor antecedente, o que irá se aproximar do valor gerado naquele instante."
      ]
    },
    {
      "cell_type": "markdown",
      "metadata": {
        "id": "m2PN86HhVweN"
      },
      "source": [
        "### 3.5.1 Potência AC gerada para cada um dos 34 dias sem tratamento para nulos"
      ]
    },
    {
      "cell_type": "code",
      "execution_count": null,
      "metadata": {
        "colab": {
          "base_uri": "https://localhost:8080/",
          "height": 1000
        },
        "id": "d_fLCce-Vb1L",
        "outputId": "db2fa467-f999-4698-b89f-2275a6595c4e"
      },
      "outputs": [],
      "source": [
        "geracao=dtUnificadaTratativa4_2.copy()\n",
        "\n",
        "geracao['Horário']=geracao['DATE_TIME'].dt.hour\n",
        "geracao['Data']=geracao['DATE_TIME'].dt.date\n",
        "\n",
        "# just for columns\n",
        "cols=geracao.groupby(['Horário','Data'])['AC_POWER'].mean().unstack()\n",
        "\n",
        "inversores = ['xoJJ8DcxJEcupym', 'WcxssY2VbP4hApt', '9kRcWv60rDACzjR', 'vOuJvMaM2sgwLmb', 'rrq4fwE8jgrTyWY', 'LYwnQax7tkwH5Cb', 'LlT2YUhhzqhg5Sw', 'q49J1IKaHRwDQnt', 'oZZkBaNadn6DNKz', 'PeE6FRyGXUgsRhN', '81aHJ1q11NBPMrL', 'V94E5Ben1TlhnDV']\n",
        "cores = ['royalblue', 'tomato', 'gold', 'lightgreen', 'plum', 'lightgray', 'blue', 'red', 'yellow', 'green', 'black', 'brown']\n",
        "\n",
        "inversores3259=dtUnificadaTratativa4_2.loc[dtUnificadaTratativa4_2['SOURCE_KEY']=='xoJJ8DcxJEcupym'].loc[dtUnificadaTratativa4_2['DATE_TIME'] < ('2020-05-18')]\n",
        "inversores3259['Horário']=inversores3259['DATE_TIME'].dt.hour\n",
        "inversores3259['Data']=inversores3259['DATE_TIME'].dt.date\n",
        "\n",
        "ax=inversores3259.groupby(['Horário','Data'])['AC_POWER'].mean().unstack().plot(sharex=True,subplots=True,layout=(3,1),figsize=(10,12), color=cores[0])\n",
        "\n",
        "j=1\n",
        "for j in range(1,12):\n",
        "    inversores3259_2=dtUnificadaTratativa4_2.loc[dtUnificadaTratativa4_2['SOURCE_KEY']==inversores[j]].loc[dtUnificadaTratativa4_2['DATE_TIME'] < ('2020-05-18')]\n",
        "    inversores3259_2['Horário']=inversores3259_2['DATE_TIME'].dt.hour\n",
        "    inversores3259_2['Data']=inversores3259_2['DATE_TIME'].dt.date\n",
        "    inversores3259_2.groupby(['Horário','Data'])['AC_POWER'].mean().unstack().plot(sharex=True,subplots=True,layout=(3,1),figsize=(10,12), color=cores[j], ax=ax)\n",
        "    j=j+1\n",
        "\n",
        "i=0\n",
        "for linha in range(len(ax)):\n",
        "    for coluna in range(len(ax[linha])):\n",
        "        ax[linha,coluna].set_title(cols.columns[i],size=15)\n",
        "        ax[linha,coluna].set_ylabel('Potência AC (kW)', size=15)\n",
        "        ax[linha,coluna].legend(inversores, bbox_to_anchor = (1.02, 1))\n",
        "        i=i+1\n",
        "\n",
        "plt.tight_layout()\n",
        "plt.savefig(diretorioImagens + '/energia_AC_inversores_com_nulos_1.png', format='png', bbox_inches='tight')\n",
        "plt.show()"
      ]
    },
    {
      "cell_type": "code",
      "execution_count": null,
      "metadata": {
        "colab": {
          "base_uri": "https://localhost:8080/",
          "height": 1000
        },
        "id": "fe7Mn7k6V5Nc",
        "outputId": "b93cb04e-7e54-4f84-b05a-08b6dbfc4fbb"
      },
      "outputs": [],
      "source": [
        "geracao=dtUnificadaTratativa4_2.loc[dtUnificadaTratativa4_2['DATE_TIME'] > ('2020-05-18')].copy()\n",
        "\n",
        "geracao['Horário']=geracao['DATE_TIME'].dt.hour\n",
        "geracao['Data']=geracao['DATE_TIME'].dt.date\n",
        "\n",
        "# just for columns\n",
        "cols=geracao.groupby(['Horário','Data'])['AC_POWER'].mean().unstack()\n",
        "\n",
        "inversores = ['xoJJ8DcxJEcupym', 'WcxssY2VbP4hApt', '9kRcWv60rDACzjR', 'vOuJvMaM2sgwLmb', 'rrq4fwE8jgrTyWY', 'LYwnQax7tkwH5Cb', 'LlT2YUhhzqhg5Sw', 'q49J1IKaHRwDQnt', 'oZZkBaNadn6DNKz', 'PeE6FRyGXUgsRhN', '81aHJ1q11NBPMrL', 'V94E5Ben1TlhnDV']\n",
        "cores = ['royalblue', 'tomato', 'gold', 'lightgreen', 'plum', 'lightgray', 'blue', 'red', 'yellow', 'green', 'black', 'brown']\n",
        "\n",
        "inversores3259=dtUnificadaTratativa4_2.loc[dtUnificadaTratativa4_2['SOURCE_KEY']=='xoJJ8DcxJEcupym'].loc[(dtUnificadaTratativa4_2['DATE_TIME'] > ('2020-05-18')) & (dtUnificadaTratativa4_2['DATE_TIME'] < ('2020-05-22'))]\n",
        "inversores3259['Horário']=inversores3259['DATE_TIME'].dt.hour\n",
        "inversores3259['Data']=inversores3259['DATE_TIME'].dt.date\n",
        "\n",
        "ax=inversores3259.groupby(['Horário','Data'])['AC_POWER'].mean().unstack().plot(sharex=True,subplots=True,layout=(4,1),figsize=(10,15), color=cores[0])\n",
        "\n",
        "j=1\n",
        "for j in range(1,12):\n",
        "    inversores3259_2=dtUnificadaTratativa4_2.loc[dtUnificadaTratativa4_2['SOURCE_KEY']==inversores[j]].loc[(dtUnificadaTratativa4_2['DATE_TIME'] > ('2020-05-18')) & (dtUnificadaTratativa4_2['DATE_TIME'] < ('2020-05-22'))]\n",
        "    inversores3259_2['Horário']=inversores3259_2['DATE_TIME'].dt.hour\n",
        "    inversores3259_2['Data']=inversores3259_2['DATE_TIME'].dt.date\n",
        "    inversores3259_2.groupby(['Horário','Data'])['AC_POWER'].mean().unstack().plot(sharex=True,subplots=True,layout=(4,1),figsize=(10,15), color=cores[j], ax=ax)\n",
        "    j=j+1\n",
        "\n",
        "i=0\n",
        "for linha in range(len(ax)):\n",
        "    for coluna in range(len(ax[linha])):\n",
        "        ax[linha,coluna].set_title(cols.columns[i],size=15)\n",
        "        ax[linha,coluna].set_ylabel('Potência AC (kW)', size=15)\n",
        "        ax[linha,coluna].legend(inversores, bbox_to_anchor = (1.02, 1))\n",
        "        i=i+1\n",
        "\n",
        "plt.tight_layout()\n",
        "plt.savefig(diretorioImagens + '/energia_AC_inversores_com_nulos_2.png', format='png', bbox_inches='tight')\n",
        "plt.show()"
      ]
    },
    {
      "cell_type": "code",
      "execution_count": null,
      "metadata": {
        "colab": {
          "base_uri": "https://localhost:8080/",
          "height": 1000
        },
        "id": "25yWAGtPV-o0",
        "outputId": "ba088593-21eb-4cd5-b5ab-b6dcdb15e1ef"
      },
      "outputs": [],
      "source": [
        "geracao=dtUnificadaTratativa4_2.loc[dtUnificadaTratativa4_2['DATE_TIME'] > ('2020-05-22')].copy()\n",
        "\n",
        "geracao['Horário']=geracao['DATE_TIME'].dt.hour\n",
        "geracao['Data']=geracao['DATE_TIME'].dt.date\n",
        "\n",
        "# just for columns\n",
        "cols=geracao.groupby(['Horário','Data'])['AC_POWER'].mean().unstack()\n",
        "\n",
        "inversores = ['xoJJ8DcxJEcupym', 'WcxssY2VbP4hApt', '9kRcWv60rDACzjR', 'vOuJvMaM2sgwLmb', 'rrq4fwE8jgrTyWY', 'LYwnQax7tkwH5Cb', 'LlT2YUhhzqhg5Sw', 'q49J1IKaHRwDQnt', 'oZZkBaNadn6DNKz', 'PeE6FRyGXUgsRhN', '81aHJ1q11NBPMrL', 'V94E5Ben1TlhnDV']\n",
        "cores = ['royalblue', 'tomato', 'gold', 'lightgreen', 'plum', 'lightgray', 'blue', 'red', 'yellow', 'green', 'black', 'brown']\n",
        "\n",
        "inversores3259=dtUnificadaTratativa4_2.loc[dtUnificadaTratativa4_2['SOURCE_KEY']=='xoJJ8DcxJEcupym'].loc[(dtUnificadaTratativa4_2['DATE_TIME'] > ('2020-05-22')) & (dtUnificadaTratativa4_2['DATE_TIME'] < ('2020-05-26'))]\n",
        "inversores3259['Horário']=inversores3259['DATE_TIME'].dt.hour\n",
        "inversores3259['Data']=inversores3259['DATE_TIME'].dt.date\n",
        "\n",
        "ax=inversores3259.groupby(['Horário','Data'])['AC_POWER'].mean().unstack().plot(sharex=True,subplots=True,layout=(4,1),figsize=(10,15), color=cores[0])\n",
        "\n",
        "j=1\n",
        "for j in range(1,12):\n",
        "    inversores3259_2=dtUnificadaTratativa4_2.loc[dtUnificadaTratativa4_2['SOURCE_KEY']==inversores[j]].loc[(dtUnificadaTratativa4_2['DATE_TIME'] > ('2020-05-22')) & (dtUnificadaTratativa4_2['DATE_TIME'] < ('2020-05-26'))]\n",
        "    inversores3259_2['Horário']=inversores3259_2['DATE_TIME'].dt.hour\n",
        "    inversores3259_2['Data']=inversores3259_2['DATE_TIME'].dt.date\n",
        "    inversores3259_2.groupby(['Horário','Data'])['AC_POWER'].mean().unstack().plot(sharex=True,subplots=True,layout=(4,1),figsize=(10,15), color=cores[j], ax=ax)\n",
        "    j=j+1\n",
        "\n",
        "i=0\n",
        "for linha in range(len(ax)):\n",
        "    for coluna in range(len(ax[linha])):\n",
        "        ax[linha,coluna].set_title(cols.columns[i],size=15)\n",
        "        ax[linha,coluna].set_ylabel('Potência AC (kW)', size=15)\n",
        "        ax[linha,coluna].legend(inversores, bbox_to_anchor = (1.02, 1))\n",
        "        i=i+1\n",
        "\n",
        "plt.tight_layout()\n",
        "plt.savefig(diretorioImagens + '/energia_AC_inversores_com_nulos_3.png', format='png', bbox_inches='tight')\n",
        "plt.show()"
      ]
    },
    {
      "cell_type": "code",
      "execution_count": null,
      "metadata": {
        "colab": {
          "base_uri": "https://localhost:8080/",
          "height": 1000
        },
        "id": "hNcaSqeAWAoI",
        "outputId": "076046d6-b55b-449a-d42a-4fe037aa8722"
      },
      "outputs": [],
      "source": [
        "geracao=dtUnificadaTratativa4_2.loc[dtUnificadaTratativa4_2['DATE_TIME'] > ('2020-05-26')].copy()\n",
        "\n",
        "geracao['Horário']=geracao['DATE_TIME'].dt.hour\n",
        "geracao['Data']=geracao['DATE_TIME'].dt.date\n",
        "\n",
        "# just for columns\n",
        "cols=geracao.groupby(['Horário','Data'])['AC_POWER'].mean().unstack()\n",
        "\n",
        "inversores = ['xoJJ8DcxJEcupym', 'WcxssY2VbP4hApt', '9kRcWv60rDACzjR', 'vOuJvMaM2sgwLmb', 'rrq4fwE8jgrTyWY', 'LYwnQax7tkwH5Cb', 'LlT2YUhhzqhg5Sw', 'q49J1IKaHRwDQnt', 'oZZkBaNadn6DNKz', 'PeE6FRyGXUgsRhN', '81aHJ1q11NBPMrL', 'V94E5Ben1TlhnDV']\n",
        "cores = ['royalblue', 'tomato', 'gold', 'lightgreen', 'plum', 'lightgray', 'blue', 'red', 'yellow', 'green', 'black', 'brown']\n",
        "\n",
        "inversores3259=dtUnificadaTratativa4_2.loc[dtUnificadaTratativa4_2['SOURCE_KEY']=='xoJJ8DcxJEcupym'].loc[(dtUnificadaTratativa4_2['DATE_TIME'] > ('2020-05-26')) & (dtUnificadaTratativa4_2['DATE_TIME'] < ('2020-05-30'))]\n",
        "inversores3259['Horário']=inversores3259['DATE_TIME'].dt.hour\n",
        "inversores3259['Data']=inversores3259['DATE_TIME'].dt.date\n",
        "\n",
        "ax=inversores3259.groupby(['Horário','Data'])['AC_POWER'].mean().unstack().plot(sharex=True,subplots=True,layout=(4,1),figsize=(10,15), color=cores[0])\n",
        "\n",
        "j=1\n",
        "for j in range(1,12):\n",
        "    inversores3259_2=dtUnificadaTratativa4_2.loc[dtUnificadaTratativa4_2['SOURCE_KEY']==inversores[j]].loc[(dtUnificadaTratativa4_2['DATE_TIME'] > ('2020-05-26')) & (dtUnificadaTratativa4_2['DATE_TIME'] < ('2020-05-30'))]\n",
        "    inversores3259_2['Horário']=inversores3259_2['DATE_TIME'].dt.hour\n",
        "    inversores3259_2['Data']=inversores3259_2['DATE_TIME'].dt.date\n",
        "    inversores3259_2.groupby(['Horário','Data'])['AC_POWER'].mean().unstack().plot(sharex=True,subplots=True,layout=(4,1),figsize=(10,15), color=cores[j], ax=ax)\n",
        "    j=j+1\n",
        "\n",
        "i=0\n",
        "for linha in range(len(ax)):\n",
        "    for coluna in range(len(ax[linha])):\n",
        "        ax[linha,coluna].set_title(cols.columns[i],size=15)\n",
        "        ax[linha,coluna].set_ylabel('Potência AC (kW)', size=15)\n",
        "        ax[linha,coluna].legend(inversores, bbox_to_anchor = (1.02, 1))\n",
        "        i=i+1\n",
        "\n",
        "plt.tight_layout()\n",
        "plt.savefig(diretorioImagens + '/energia_AC_inversores_com_nulos_4.png', format='png', bbox_inches='tight')\n",
        "plt.show()"
      ]
    },
    {
      "cell_type": "code",
      "execution_count": null,
      "metadata": {
        "colab": {
          "base_uri": "https://localhost:8080/",
          "height": 1000
        },
        "id": "DIxJ20OuWCte",
        "outputId": "1453689a-542a-4ce9-f6f7-2754bfbfcaf4"
      },
      "outputs": [],
      "source": [
        "geracao=dtUnificadaTratativa4_2.loc[dtUnificadaTratativa4_2['DATE_TIME'] > ('2020-05-30')].copy()\n",
        "\n",
        "geracao['Horário']=geracao['DATE_TIME'].dt.hour\n",
        "geracao['Data']=geracao['DATE_TIME'].dt.date\n",
        "\n",
        "# just for columns\n",
        "cols=geracao.groupby(['Horário','Data'])['AC_POWER'].mean().unstack()\n",
        "\n",
        "inversores = ['xoJJ8DcxJEcupym', 'WcxssY2VbP4hApt', '9kRcWv60rDACzjR', 'vOuJvMaM2sgwLmb', 'rrq4fwE8jgrTyWY', 'LYwnQax7tkwH5Cb', 'LlT2YUhhzqhg5Sw', 'q49J1IKaHRwDQnt', 'oZZkBaNadn6DNKz', 'PeE6FRyGXUgsRhN', '81aHJ1q11NBPMrL', 'V94E5Ben1TlhnDV']\n",
        "cores = ['royalblue', 'tomato', 'gold', 'lightgreen', 'plum', 'lightgray', 'blue', 'red', 'yellow', 'green', 'black', 'brown']\n",
        "\n",
        "inversores3259=dtUnificadaTratativa4_2.loc[dtUnificadaTratativa4_2['SOURCE_KEY']=='xoJJ8DcxJEcupym'].loc[(dtUnificadaTratativa4_2['DATE_TIME'] > ('2020-05-30')) & (dtUnificadaTratativa4_2['DATE_TIME'] < ('2020-06-03'))]\n",
        "inversores3259['Horário']=inversores3259['DATE_TIME'].dt.hour\n",
        "inversores3259['Data']=inversores3259['DATE_TIME'].dt.date\n",
        "\n",
        "ax=inversores3259.groupby(['Horário','Data'])['AC_POWER'].mean().unstack().plot(sharex=True,subplots=True,layout=(4,1),figsize=(10,15), color=cores[0])\n",
        "\n",
        "j=1\n",
        "for j in range(1,12):\n",
        "    inversores3259_2=dtUnificadaTratativa4_2.loc[dtUnificadaTratativa4_2['SOURCE_KEY']==inversores[j]].loc[(dtUnificadaTratativa4_2['DATE_TIME'] > ('2020-05-30')) & (dtUnificadaTratativa4_2['DATE_TIME'] < ('2020-06-03'))]\n",
        "    inversores3259_2['Horário']=inversores3259_2['DATE_TIME'].dt.hour\n",
        "    inversores3259_2['Data']=inversores3259_2['DATE_TIME'].dt.date\n",
        "    inversores3259_2.groupby(['Horário','Data'])['AC_POWER'].mean().unstack().plot(sharex=True,subplots=True,layout=(4,1),figsize=(10,15), color=cores[j], ax=ax)\n",
        "    j=j+1\n",
        "\n",
        "i=0\n",
        "for linha in range(len(ax)):\n",
        "    for coluna in range(len(ax[linha])):\n",
        "        ax[linha,coluna].set_title(cols.columns[i],size=15)\n",
        "        ax[linha,coluna].set_ylabel('Potência AC (kW)', size=15)\n",
        "        ax[linha,coluna].legend(inversores, bbox_to_anchor = (1.02, 1))\n",
        "        i=i+1\n",
        "\n",
        "plt.tight_layout()\n",
        "plt.savefig(diretorioImagens + '/energia_AC_inversores_com_nulos_5.png', format='png', bbox_inches='tight')\n",
        "plt.show()"
      ]
    },
    {
      "cell_type": "code",
      "execution_count": null,
      "metadata": {
        "colab": {
          "base_uri": "https://localhost:8080/",
          "height": 1000
        },
        "id": "riqn__LCWEmy",
        "outputId": "979b1819-361f-4cf6-87f8-a59bcfbada15"
      },
      "outputs": [],
      "source": [
        "geracao=dtUnificadaTratativa4_2.loc[dtUnificadaTratativa4_2['DATE_TIME'] > ('2020-06-03')].copy()\n",
        "\n",
        "geracao['Horário']=geracao['DATE_TIME'].dt.hour\n",
        "geracao['Data']=geracao['DATE_TIME'].dt.date\n",
        "\n",
        "# just for columns\n",
        "cols=geracao.groupby(['Horário','Data'])['AC_POWER'].mean().unstack()\n",
        "\n",
        "inversores = ['xoJJ8DcxJEcupym', 'WcxssY2VbP4hApt', '9kRcWv60rDACzjR', 'vOuJvMaM2sgwLmb', 'rrq4fwE8jgrTyWY', 'LYwnQax7tkwH5Cb', 'LlT2YUhhzqhg5Sw', 'q49J1IKaHRwDQnt', 'oZZkBaNadn6DNKz', 'PeE6FRyGXUgsRhN', '81aHJ1q11NBPMrL', 'V94E5Ben1TlhnDV']\n",
        "cores = ['royalblue', 'tomato', 'gold', 'lightgreen', 'plum', 'lightgray', 'blue', 'red', 'yellow', 'green', 'black', 'brown']\n",
        "\n",
        "inversores3259=dtUnificadaTratativa4_2.loc[dtUnificadaTratativa4_2['SOURCE_KEY']=='xoJJ8DcxJEcupym'].loc[(dtUnificadaTratativa4_2['DATE_TIME'] > ('2020-06-03')) & (dtUnificadaTratativa4_2['DATE_TIME'] < ('2020-06-07'))]\n",
        "inversores3259['Horário']=inversores3259['DATE_TIME'].dt.hour\n",
        "inversores3259['Data']=inversores3259['DATE_TIME'].dt.date\n",
        "\n",
        "ax=inversores3259.groupby(['Horário','Data'])['AC_POWER'].mean().unstack().plot(sharex=True,subplots=True,layout=(4,1),figsize=(10,15), color=cores[0])\n",
        "\n",
        "j=1\n",
        "for j in range(1,12):\n",
        "    inversores3259_2=dtUnificadaTratativa4_2.loc[dtUnificadaTratativa4_2['SOURCE_KEY']==inversores[j]].loc[(dtUnificadaTratativa4_2['DATE_TIME'] > ('2020-06-03')) & (dtUnificadaTratativa4_2['DATE_TIME'] < ('2020-06-07'))]\n",
        "    inversores3259_2['Horário']=inversores3259_2['DATE_TIME'].dt.hour\n",
        "    inversores3259_2['Data']=inversores3259_2['DATE_TIME'].dt.date\n",
        "    inversores3259_2.groupby(['Horário','Data'])['AC_POWER'].mean().unstack().plot(sharex=True,subplots=True,layout=(4,1),figsize=(10,15), color=cores[j], ax=ax)\n",
        "    j=j+1\n",
        "\n",
        "i=0\n",
        "for linha in range(len(ax)):\n",
        "    for coluna in range(len(ax[linha])):\n",
        "        ax[linha,coluna].set_title(cols.columns[i],size=15)\n",
        "        ax[linha,coluna].set_ylabel('Potência AC (kW)', size=15)\n",
        "        ax[linha,coluna].legend(inversores, bbox_to_anchor = (1.02, 1))\n",
        "        i=i+1\n",
        "\n",
        "plt.tight_layout()\n",
        "plt.savefig(diretorioImagens + '/energia_AC_inversores_com_nulos_6.png', format='png', bbox_inches='tight')\n",
        "plt.show()"
      ]
    },
    {
      "cell_type": "code",
      "execution_count": null,
      "metadata": {
        "colab": {
          "base_uri": "https://localhost:8080/",
          "height": 1000
        },
        "id": "5f6xiKKSWPZN",
        "outputId": "9c852870-706a-4d6b-83cf-57f3d3454c93"
      },
      "outputs": [],
      "source": [
        "geracao=dtUnificadaTratativa4_2.loc[dtUnificadaTratativa4_2['DATE_TIME'] > ('2020-06-07')].copy()\n",
        "\n",
        "geracao['Horário']=geracao['DATE_TIME'].dt.hour\n",
        "geracao['Data']=geracao['DATE_TIME'].dt.date\n",
        "\n",
        "# just for columns\n",
        "cols=geracao.groupby(['Horário','Data'])['AC_POWER'].mean().unstack()\n",
        "\n",
        "inversores = ['xoJJ8DcxJEcupym', 'WcxssY2VbP4hApt', '9kRcWv60rDACzjR', 'vOuJvMaM2sgwLmb', 'rrq4fwE8jgrTyWY', 'LYwnQax7tkwH5Cb', 'LlT2YUhhzqhg5Sw', 'q49J1IKaHRwDQnt', 'oZZkBaNadn6DNKz', 'PeE6FRyGXUgsRhN', '81aHJ1q11NBPMrL', 'V94E5Ben1TlhnDV']\n",
        "cores = ['royalblue', 'tomato', 'gold', 'lightgreen', 'plum', 'lightgray', 'blue', 'red', 'yellow', 'green', 'black', 'brown']\n",
        "\n",
        "inversores3259=dtUnificadaTratativa4_2.loc[dtUnificadaTratativa4_2['SOURCE_KEY']=='xoJJ8DcxJEcupym'].loc[(dtUnificadaTratativa4_2['DATE_TIME'] > ('2020-06-07')) & (dtUnificadaTratativa4_2['DATE_TIME'] < ('2020-06-11'))]\n",
        "inversores3259['Horário']=inversores3259['DATE_TIME'].dt.hour\n",
        "inversores3259['Data']=inversores3259['DATE_TIME'].dt.date\n",
        "\n",
        "ax=inversores3259.groupby(['Horário','Data'])['AC_POWER'].mean().unstack().plot(sharex=True,subplots=True,layout=(4,1),figsize=(10,15), color=cores[0])\n",
        "\n",
        "j=1\n",
        "for j in range(1,12):\n",
        "    inversores3259_2=dtUnificadaTratativa4_2.loc[dtUnificadaTratativa4_2['SOURCE_KEY']==inversores[j]].loc[(dtUnificadaTratativa4_2['DATE_TIME'] > ('2020-06-07')) & (dtUnificadaTratativa4_2['DATE_TIME'] < ('2020-06-11'))]\n",
        "    inversores3259_2['Horário']=inversores3259_2['DATE_TIME'].dt.hour\n",
        "    inversores3259_2['Data']=inversores3259_2['DATE_TIME'].dt.date\n",
        "    inversores3259_2.groupby(['Horário','Data'])['AC_POWER'].mean().unstack().plot(sharex=True,subplots=True,layout=(4,1),figsize=(10,15), color=cores[j], ax=ax)\n",
        "    j=j+1\n",
        "\n",
        "i=0\n",
        "for linha in range(len(ax)):\n",
        "    for coluna in range(len(ax[linha])):\n",
        "        ax[linha,coluna].set_title(cols.columns[i],size=15)\n",
        "        ax[linha,coluna].set_ylabel('Potência AC (kW)', size=15)\n",
        "        ax[linha,coluna].legend(inversores, bbox_to_anchor = (1.02, 1))\n",
        "        i=i+1\n",
        "\n",
        "plt.tight_layout()\n",
        "plt.savefig(diretorioImagens + '/\\energia_AC_inversores_com_nulos_7.png', format='png', bbox_inches='tight')\n",
        "plt.show()"
      ]
    },
    {
      "cell_type": "code",
      "execution_count": null,
      "metadata": {
        "colab": {
          "base_uri": "https://localhost:8080/",
          "height": 1000
        },
        "id": "tKAISzO4WSRQ",
        "outputId": "e1216e5c-9b30-407b-e136-421779357fb4"
      },
      "outputs": [],
      "source": [
        "geracao=dtUnificadaTratativa4_2.loc[dtUnificadaTratativa4_2['DATE_TIME'] > ('2020-06-11')].copy()\n",
        "\n",
        "geracao['Horário']=geracao['DATE_TIME'].dt.hour\n",
        "geracao['Data']=geracao['DATE_TIME'].dt.date\n",
        "\n",
        "# just for columns\n",
        "cols=geracao.groupby(['Horário','Data'])['AC_POWER'].mean().unstack()\n",
        "\n",
        "inversores = ['xoJJ8DcxJEcupym', 'WcxssY2VbP4hApt', '9kRcWv60rDACzjR', 'vOuJvMaM2sgwLmb', 'rrq4fwE8jgrTyWY', 'LYwnQax7tkwH5Cb', 'LlT2YUhhzqhg5Sw', 'q49J1IKaHRwDQnt', 'oZZkBaNadn6DNKz', 'PeE6FRyGXUgsRhN', '81aHJ1q11NBPMrL', 'V94E5Ben1TlhnDV']\n",
        "cores = ['royalblue', 'tomato', 'gold', 'lightgreen', 'plum', 'lightgray', 'blue', 'red', 'yellow', 'green', 'black', 'brown']\n",
        "\n",
        "inversores3259=dtUnificadaTratativa4_2.loc[dtUnificadaTratativa4_2['SOURCE_KEY']=='xoJJ8DcxJEcupym'].loc[(dtUnificadaTratativa4_2['DATE_TIME'] > ('2020-06-11')) & (dtUnificadaTratativa4_2['DATE_TIME'] < ('2020-06-15'))]\n",
        "inversores3259['Horário']=inversores3259['DATE_TIME'].dt.hour\n",
        "inversores3259['Data']=inversores3259['DATE_TIME'].dt.date\n",
        "\n",
        "ax=inversores3259.groupby(['Horário','Data'])['AC_POWER'].mean().unstack().plot(sharex=True,subplots=True,layout=(4,1),figsize=(10,15), color=cores[0])\n",
        "\n",
        "j=1\n",
        "for j in range(1,12):\n",
        "    inversores3259_2=dtUnificadaTratativa4_2.loc[dtUnificadaTratativa4_2['SOURCE_KEY']==inversores[j]].loc[(dtUnificadaTratativa4_2['DATE_TIME'] > ('2020-06-11')) & (dtUnificadaTratativa4_2['DATE_TIME'] < ('2020-06-15'))]\n",
        "    inversores3259_2['Horário']=inversores3259_2['DATE_TIME'].dt.hour\n",
        "    inversores3259_2['Data']=inversores3259_2['DATE_TIME'].dt.date\n",
        "    inversores3259_2.groupby(['Horário','Data'])['AC_POWER'].mean().unstack().plot(sharex=True,subplots=True,layout=(4,1),figsize=(10,15), color=cores[j], ax=ax)\n",
        "    j=j+1\n",
        "\n",
        "i=0\n",
        "for linha in range(len(ax)):\n",
        "    for coluna in range(len(ax[linha])):\n",
        "        ax[linha,coluna].set_title(cols.columns[i],size=15)\n",
        "        ax[linha,coluna].set_ylabel('Potência AC (kW)', size=15)\n",
        "        ax[linha,coluna].legend(inversores, bbox_to_anchor = (1.02, 1))\n",
        "        i=i+1\n",
        "\n",
        "plt.tight_layout()\n",
        "plt.savefig(diretorioImagens + '/energia_AC_inversores_com_nulos_8.png', format='png', bbox_inches='tight')\n",
        "plt.show()"
      ]
    },
    {
      "cell_type": "code",
      "execution_count": null,
      "metadata": {
        "colab": {
          "base_uri": "https://localhost:8080/",
          "height": 1000
        },
        "id": "6aS5BWbLWUWF",
        "outputId": "e5425719-3de4-4c3f-f51d-d89875f2ce5e"
      },
      "outputs": [],
      "source": [
        "geracao=dtUnificadaTratativa4_2.loc[dtUnificadaTratativa4_2['DATE_TIME'] > ('2020-06-15')].copy()\n",
        "\n",
        "geracao['Horário']=geracao['DATE_TIME'].dt.hour\n",
        "geracao['Data']=geracao['DATE_TIME'].dt.date\n",
        "\n",
        "# just for columns\n",
        "cols=geracao.groupby(['Horário','Data'])['AC_POWER'].mean().unstack()\n",
        "\n",
        "inversores = ['xoJJ8DcxJEcupym', 'WcxssY2VbP4hApt', '9kRcWv60rDACzjR', 'vOuJvMaM2sgwLmb', 'rrq4fwE8jgrTyWY', 'LYwnQax7tkwH5Cb', 'LlT2YUhhzqhg5Sw', 'q49J1IKaHRwDQnt', 'oZZkBaNadn6DNKz', 'PeE6FRyGXUgsRhN', '81aHJ1q11NBPMrL', 'V94E5Ben1TlhnDV']\n",
        "cores = ['royalblue', 'tomato', 'gold', 'lightgreen', 'plum', 'lightgray', 'blue', 'red', 'yellow', 'green', 'black', 'brown']\n",
        "\n",
        "inversores3259=dtUnificadaTratativa4_2.loc[dtUnificadaTratativa4_2['SOURCE_KEY']=='xoJJ8DcxJEcupym'].loc[(dtUnificadaTratativa4_2['DATE_TIME'] > ('2020-06-15')) & (dtUnificadaTratativa4_2['DATE_TIME'] < ('2020-06-18'))]\n",
        "inversores3259['Horário']=inversores3259['DATE_TIME'].dt.hour\n",
        "inversores3259['Data']=inversores3259['DATE_TIME'].dt.date\n",
        "\n",
        "ax=inversores3259.groupby(['Horário','Data'])['AC_POWER'].mean().unstack().plot(sharex=True,subplots=True,layout=(3,1),figsize=(10,12), color=cores[0])\n",
        "\n",
        "j=1\n",
        "for j in range(1,12):\n",
        "    inversores3259_2=dtUnificadaTratativa4_2.loc[dtUnificadaTratativa4_2['SOURCE_KEY']==inversores[j]].loc[(dtUnificadaTratativa4_2['DATE_TIME'] > ('2020-06-15')) & (dtUnificadaTratativa4_2['DATE_TIME'] < ('2020-06-18'))]\n",
        "    inversores3259_2['Horário']=inversores3259_2['DATE_TIME'].dt.hour\n",
        "    inversores3259_2['Data']=inversores3259_2['DATE_TIME'].dt.date\n",
        "    inversores3259_2.groupby(['Horário','Data'])['AC_POWER'].mean().unstack().plot(sharex=True,subplots=True,layout=(3,1),figsize=(10,12), color=cores[j], ax=ax)\n",
        "    j=j+1\n",
        "\n",
        "i=0\n",
        "for linha in range(len(ax)):\n",
        "    for coluna in range(len(ax[linha])):\n",
        "        ax[linha,coluna].set_title(cols.columns[i],size=15)\n",
        "        ax[linha,coluna].set_ylabel('Potência AC (kW)', size=15)\n",
        "        ax[linha,coluna].legend(inversores, bbox_to_anchor = (1.02, 1))\n",
        "        i=i+1\n",
        "\n",
        "plt.tight_layout()\n",
        "plt.savefig(diretorioImagens + '/energia_AC_inversores_com_nulos_9.png', format='png', bbox_inches='tight')\n",
        "plt.show()"
      ]
    },
    {
      "cell_type": "markdown",
      "metadata": {
        "id": "lcXWzkVHklM5"
      },
      "source": [
        "### 3.5.2 Tratamento para nulos"
      ]
    },
    {
      "cell_type": "code",
      "execution_count": null,
      "metadata": {
        "id": "YgCwWFkSWWYE"
      },
      "outputs": [],
      "source": [
        "# Coletar amostra no intervalo das 7h às 17h\n",
        "filtro = (dtUnificadaTratativa4_2['DATE_TIME'].dt.hour >= 7) & (dtUnificadaTratativa4_2['DATE_TIME'].dt.hour <= 17)\n",
        "\n",
        "dtGeracaoACIncorreta = dtUnificadaTratativa4_2[filtro]"
      ]
    },
    {
      "cell_type": "code",
      "execution_count": null,
      "metadata": {
        "colab": {
          "base_uri": "https://localhost:8080/",
          "height": 542
        },
        "id": "IT_E5c_oWXzU",
        "outputId": "e54d7f38-0282-4cce-c022-ff3ca7beaa30"
      },
      "outputs": [],
      "source": [
        "# Histograma com a média de irradiação para quando a geração de energia foi nula incorretamente\n",
        "diasNulos = dtGeracaoACIncorreta['DATE_TIME'].dt.hour\n",
        "\n",
        "fig = px.histogram(dtGeracaoACIncorreta, labels={'x': \"Hora\"}, x=diasNulos, y=\"IRRADIATION\", histfunc='avg')\n",
        "fig.update_yaxes(title_text='Irradiação solar média')"
      ]
    },
    {
      "cell_type": "code",
      "execution_count": null,
      "metadata": {
        "colab": {
          "base_uri": "https://localhost:8080/"
        },
        "id": "Xvn3vIRKWZJU",
        "outputId": "c9afcf57-2ed9-4095-98a9-a8e7cbdcda26"
      },
      "outputs": [],
      "source": [
        "# Substituir valores nulos por NaN\n",
        "dtGeracaoACIncorretaNAN = dtGeracaoACIncorreta.copy()\n",
        "geracaoACIncorretaNAN = dtGeracaoACIncorretaNAN[['AC_POWER', 'DC_POWER']].replace(0, np.nan)\n",
        "\n",
        "# Exibe a quantidade de valores NaN\n",
        "geracaoACIncorretaNAN.isnull().sum()"
      ]
    },
    {
      "cell_type": "code",
      "execution_count": null,
      "metadata": {
        "colab": {
          "base_uri": "https://localhost:8080/",
          "height": 424
        },
        "id": "BtUUCQNuM6yz",
        "outputId": "237dd828-8c1e-4e92-f306-92e3959259eb"
      },
      "outputs": [],
      "source": [
        "dtGeracaoACIncorretaNAN"
      ]
    },
    {
      "cell_type": "code",
      "execution_count": null,
      "metadata": {
        "colab": {
          "base_uri": "https://localhost:8080/",
          "height": 424
        },
        "id": "BT5asswnWagS",
        "outputId": "502d821c-1a1e-44f1-9910-f639d660cc72"
      },
      "outputs": [],
      "source": [
        "geracaoACIncorretaNAN.head(1000)"
      ]
    },
    {
      "cell_type": "code",
      "execution_count": null,
      "metadata": {
        "colab": {
          "base_uri": "https://localhost:8080/"
        },
        "id": "gPm9cOc_Wb3R",
        "outputId": "49a3c73d-68a3-4f9a-dc35-b9079258d38f"
      },
      "outputs": [],
      "source": [
        "# Substituindo valor NaN com o valor seguinte AC\n",
        "newColumnAC = geracaoACIncorretaNAN['AC_POWER'].fillna(method='bfill')\n",
        "newColumnDC = geracaoACIncorretaNAN['DC_POWER'].fillna(method='bfill')\n",
        "\n",
        "newColumnAC.head(1000)"
      ]
    },
    {
      "cell_type": "code",
      "execution_count": null,
      "metadata": {
        "colab": {
          "base_uri": "https://localhost:8080/"
        },
        "id": "Ml92tEI7WdV0",
        "outputId": "7b4cc5c1-c966-4f12-fe03-e2135f6add1b"
      },
      "outputs": [],
      "source": [
        "newColumnDC.head(1000)"
      ]
    },
    {
      "cell_type": "code",
      "execution_count": null,
      "metadata": {
        "colab": {
          "base_uri": "https://localhost:8080/",
          "height": 424
        },
        "id": "ERo7nYsTWfUA",
        "outputId": "b681d5d0-4d01-4e8b-a866-6d7992463a37"
      },
      "outputs": [],
      "source": [
        "# Substitui a coluna com valor nulo pela coluna com valor numérico\n",
        "dtGeracaoACCorrigida = dtGeracaoACIncorreta.copy()\n",
        "\n",
        "# Retira a coluna de geração incorreta\n",
        "dtGeracaoACCorrigida = dtGeracaoACCorrigida.drop(['AC_POWER', 'DC_POWER'], axis = 1)\n",
        "\n",
        "# Insere a coluna de geração corrigida na amostra\n",
        "dtGeracaoACCorrigida['AC_POWER'] = newColumnAC\n",
        "dtGeracaoACCorrigida['DC_POWER'] = newColumnDC\n",
        "\n",
        "dtGeracaoACCorrigida.head(1000)"
      ]
    },
    {
      "cell_type": "code",
      "execution_count": null,
      "metadata": {
        "colab": {
          "base_uri": "https://localhost:8080/"
        },
        "id": "jgZan-NIWg7b",
        "outputId": "cad10bb1-4645-40ed-8955-c098cbb08dab"
      },
      "outputs": [],
      "source": [
        "dtGeracaoACCorrigida.info()"
      ]
    },
    {
      "cell_type": "code",
      "execution_count": null,
      "metadata": {
        "colab": {
          "base_uri": "https://localhost:8080/",
          "height": 424
        },
        "id": "v3nvM1BoO15a",
        "outputId": "b0ea7882-d682-48be-e008-8df844a2eb2a"
      },
      "outputs": [],
      "source": [
        "dtGeracaoACCorrigida"
      ]
    },
    {
      "cell_type": "code",
      "execution_count": null,
      "metadata": {
        "colab": {
          "base_uri": "https://localhost:8080/"
        },
        "id": "FJA6VuNKWiM3",
        "outputId": "b3aa4026-10cb-47df-9853-c002570aacf3"
      },
      "outputs": [],
      "source": [
        "dtUnificadaTratativa4_2.info()"
      ]
    },
    {
      "cell_type": "code",
      "execution_count": null,
      "metadata": {
        "colab": {
          "base_uri": "https://localhost:8080/",
          "height": 424
        },
        "id": "QUXaN-6CPtq7",
        "outputId": "c4002963-aeb9-455a-db48-2a803b174ee5"
      },
      "outputs": [],
      "source": [
        "dtUnificadaTratativa4_2"
      ]
    },
    {
      "cell_type": "code",
      "execution_count": null,
      "metadata": {
        "colab": {
          "base_uri": "https://localhost:8080/"
        },
        "id": "IU4ML3j0Wjje",
        "outputId": "b8f786c1-ba78-48cd-8cea-93e3929169d3"
      },
      "outputs": [],
      "source": [
        "# Coletar amostra diferente do intervalo das 7h às 17h\n",
        "filtro = (dtUnificadaTratativa4_2['DATE_TIME'].dt.hour < 7) | (dtUnificadaTratativa4_2['DATE_TIME'].dt.hour > 17)\n",
        "\n",
        "dtTemp4_2 = dtUnificadaTratativa4_2.copy()\n",
        "dtTemp4_2 = dtTemp4_2[filtro]\n",
        "\n",
        "dtTemp4_2.info()"
      ]
    },
    {
      "cell_type": "code",
      "execution_count": null,
      "metadata": {
        "colab": {
          "base_uri": "https://localhost:8080/",
          "height": 424
        },
        "id": "zE3pBUN2OPvo",
        "outputId": "9f7e588a-083a-4ff5-c7d5-03dd3780089c"
      },
      "outputs": [],
      "source": [
        "dtTemp4_2"
      ]
    },
    {
      "cell_type": "code",
      "execution_count": null,
      "metadata": {
        "colab": {
          "base_uri": "https://localhost:8080/"
        },
        "id": "6rW0FYWDWkwu",
        "outputId": "dd49ab21-e5b5-44fb-fd6e-9b5afef5a4d5"
      },
      "outputs": [],
      "source": [
        "# Une as linhas com os valores nulos corrigidos com a amostra original\n",
        "dtUnificadaTrativa4_3 = pd.merge(dtTemp4_2, dtGeracaoACCorrigida, how = 'outer')\n",
        "\n",
        "dtUnificadaTrativa4_3.info()"
      ]
    },
    {
      "cell_type": "code",
      "execution_count": null,
      "metadata": {
        "colab": {
          "base_uri": "https://localhost:8080/",
          "height": 424
        },
        "id": "Pp7HmxYsOaGK",
        "outputId": "b5735845-5c19-4369-9508-8f425ff46b7f"
      },
      "outputs": [],
      "source": [
        "dtUnificadaTrativa4_3"
      ]
    },
    {
      "cell_type": "code",
      "execution_count": null,
      "metadata": {
        "colab": {
          "base_uri": "https://localhost:8080/",
          "height": 983
        },
        "id": "JMBsKzeFWmIB",
        "outputId": "c96c8d1b-648b-4a1d-c6d3-f487dcbe9667"
      },
      "outputs": [],
      "source": [
        "# Gerar um histograma para cada atributo numérico\n",
        "dtSimetria = dtUnificadaTrativa4_3.drop(['DATE_TIME', 'DAY', 'HOUR'], axis = 1)\n",
        "dtSimetria.hist(bins=50, figsize=(10,30), layout=(7,2))\n",
        "plt.savefig(diretorioImagens + '/simetria_3.png', format='png', bbox_inches='tight')\n",
        "plt.show()"
      ]
    },
    {
      "cell_type": "markdown",
      "metadata": {
        "id": "v5gxU-LOWoAA"
      },
      "source": [
        "Agora, é perceptível que a calda-longa que aparece no atributo de geração de energia, se assemelha com a calda-longa do atributo de irradiação, o que faz sentido, quando a irradiação for igual a zero, a geração de energia tende a ser igual a zero."
      ]
    },
    {
      "cell_type": "code",
      "execution_count": null,
      "metadata": {
        "colab": {
          "base_uri": "https://localhost:8080/"
        },
        "id": "_saEcNbxWpe7",
        "outputId": "c5cfdc28-3a8f-4a81-db21-79bccd760ff3"
      },
      "outputs": [],
      "source": [
        "print(dtUnificadaTrativa4_3.skew(), '\\nSoma:', sum(abs(dtUnificadaTrativa4_3.skew())))"
      ]
    },
    {
      "cell_type": "markdown",
      "metadata": {
        "id": "JSduTVD8Wrd1"
      },
      "source": [
        "### 3.5.3 Potência AC gerada para cada um dos 34 dias com tratamento para nulos"
      ]
    },
    {
      "cell_type": "code",
      "execution_count": null,
      "metadata": {
        "colab": {
          "base_uri": "https://localhost:8080/",
          "height": 1000
        },
        "id": "nnmuCDK0Wtr8",
        "outputId": "ed6f0b28-ca42-4951-df27-913f74cb703e"
      },
      "outputs": [],
      "source": [
        "geracao=dtUnificadaTrativa4_3.copy()\n",
        "\n",
        "geracao['Horário']=geracao['DATE_TIME'].dt.hour\n",
        "geracao['Data']=geracao['DATE_TIME'].dt.date\n",
        "\n",
        "# just for columns\n",
        "cols=geracao.groupby(['Horário','Data'])['AC_POWER'].mean().unstack()\n",
        "\n",
        "inversores = ['xoJJ8DcxJEcupym', 'WcxssY2VbP4hApt', '9kRcWv60rDACzjR', 'vOuJvMaM2sgwLmb', 'rrq4fwE8jgrTyWY', 'LYwnQax7tkwH5Cb', 'LlT2YUhhzqhg5Sw', 'q49J1IKaHRwDQnt', 'oZZkBaNadn6DNKz', 'PeE6FRyGXUgsRhN', '81aHJ1q11NBPMrL', 'V94E5Ben1TlhnDV']\n",
        "cores = ['royalblue', 'tomato', 'gold', 'lightgreen', 'plum', 'lightgray', 'blue', 'red', 'yellow', 'green', 'black', 'brown']\n",
        "\n",
        "inversores3259=dtUnificadaTrativa4_3.loc[dtUnificadaTrativa4_3['SOURCE_KEY']=='xoJJ8DcxJEcupym'].loc[dtUnificadaTrativa4_3['DATE_TIME'] < ('2020-05-18')]\n",
        "inversores3259['Horário']=inversores3259['DATE_TIME'].dt.hour\n",
        "inversores3259['Data']=inversores3259['DATE_TIME'].dt.date\n",
        "\n",
        "ax=inversores3259.groupby(['Horário','Data'])['AC_POWER'].mean().unstack().plot(sharex=True,subplots=True,layout=(3,1),figsize=(10,12), color=cores[0])\n",
        "\n",
        "j=1\n",
        "for j in range(1,12):\n",
        "    inversores3259_2=dtUnificadaTrativa4_3.loc[dtUnificadaTrativa4_3['SOURCE_KEY']==inversores[j]].loc[dtUnificadaTrativa4_3['DATE_TIME'] < ('2020-05-18')]\n",
        "    inversores3259_2['Horário']=inversores3259_2['DATE_TIME'].dt.hour\n",
        "    inversores3259_2['Data']=inversores3259_2['DATE_TIME'].dt.date\n",
        "    inversores3259_2.groupby(['Horário','Data'])['AC_POWER'].mean().unstack().plot(sharex=True,subplots=True,layout=(3,1),figsize=(10,12), color=cores[j], ax=ax)\n",
        "    j=j+1\n",
        "\n",
        "i=0\n",
        "for linha in range(len(ax)):\n",
        "    for coluna in range(len(ax[linha])):\n",
        "        ax[linha,coluna].set_title(cols.columns[i],size=12)\n",
        "        ax[linha,coluna].set_ylabel('Energia AC (kW)')\n",
        "        ax[linha,coluna].legend(inversores, bbox_to_anchor = (1.02, 1))\n",
        "        i=i+1\n",
        "\n",
        "plt.tight_layout()\n",
        "plt.savefig(diretorioImagens + '/energia_AC_inversores_sem_nulos_1.png', format='png', bbox_inches='tight')\n",
        "plt.show()"
      ]
    },
    {
      "cell_type": "code",
      "execution_count": null,
      "metadata": {
        "colab": {
          "base_uri": "https://localhost:8080/",
          "height": 1000
        },
        "id": "iN2CAsPsWwcE",
        "outputId": "dc6e0c7c-e2fe-4907-f6d2-d8a510196be4"
      },
      "outputs": [],
      "source": [
        "geracao=dtUnificadaTrativa4_3.loc[dtUnificadaTrativa4_3['DATE_TIME'] > ('2020-05-18')].copy()\n",
        "\n",
        "geracao['Horário']=geracao['DATE_TIME'].dt.hour\n",
        "geracao['Data']=geracao['DATE_TIME'].dt.date\n",
        "\n",
        "# just for columns\n",
        "cols=geracao.groupby(['Horário','Data'])['AC_POWER'].mean().unstack()\n",
        "\n",
        "inversores = ['xoJJ8DcxJEcupym', 'WcxssY2VbP4hApt', '9kRcWv60rDACzjR', 'vOuJvMaM2sgwLmb', 'rrq4fwE8jgrTyWY', 'LYwnQax7tkwH5Cb', 'LlT2YUhhzqhg5Sw', 'q49J1IKaHRwDQnt', 'oZZkBaNadn6DNKz', 'PeE6FRyGXUgsRhN', '81aHJ1q11NBPMrL', 'V94E5Ben1TlhnDV']\n",
        "cores = ['royalblue', 'tomato', 'gold', 'lightgreen', 'plum', 'lightgray', 'blue', 'red', 'yellow', 'green', 'black', 'brown']\n",
        "\n",
        "inversores3259=dtUnificadaTrativa4_3.loc[dtUnificadaTrativa4_3['SOURCE_KEY']=='xoJJ8DcxJEcupym'].loc[(dtUnificadaTrativa4_3['DATE_TIME'] > ('2020-05-18')) & (dtUnificadaTrativa4_3['DATE_TIME'] < ('2020-05-22'))]\n",
        "inversores3259['Horário']=inversores3259['DATE_TIME'].dt.hour\n",
        "inversores3259['Data']=inversores3259['DATE_TIME'].dt.date\n",
        "\n",
        "ax=inversores3259.groupby(['Horário','Data'])['AC_POWER'].mean().unstack().plot(sharex=True,subplots=True,layout=(4,1),figsize=(10,15), color=cores[0])\n",
        "\n",
        "j=1\n",
        "for j in range(1,12):\n",
        "    inversores3259_2=dtUnificadaTrativa4_3.loc[dtUnificadaTrativa4_3['SOURCE_KEY']==inversores[j]].loc[(dtUnificadaTrativa4_3['DATE_TIME'] > ('2020-05-18')) & (dtUnificadaTrativa4_3['DATE_TIME'] < ('2020-05-22'))]\n",
        "    inversores3259_2['Horário']=inversores3259_2['DATE_TIME'].dt.hour\n",
        "    inversores3259_2['Data']=inversores3259_2['DATE_TIME'].dt.date\n",
        "    inversores3259_2.groupby(['Horário','Data'])['AC_POWER'].mean().unstack().plot(sharex=True,subplots=True,layout=(4,1),figsize=(10,15), color=cores[j], ax=ax)\n",
        "    j=j+1\n",
        "\n",
        "i=0\n",
        "for linha in range(len(ax)):\n",
        "    for coluna in range(len(ax[linha])):\n",
        "        ax[linha,coluna].set_title(cols.columns[i],size=15)\n",
        "        ax[linha,coluna].set_ylabel('Potência AC (kW)', size=15)\n",
        "        ax[linha,coluna].legend(inversores, bbox_to_anchor = (1.02, 1))\n",
        "        i=i+1\n",
        "\n",
        "plt.tight_layout()\n",
        "plt.savefig(diretorioImagens + '/energia_AC_inversores_sem_nulos_2.png', format='png', bbox_inches='tight')\n",
        "plt.show()"
      ]
    },
    {
      "cell_type": "code",
      "execution_count": null,
      "metadata": {
        "colab": {
          "base_uri": "https://localhost:8080/",
          "height": 1000
        },
        "id": "7dE8vIweWyae",
        "outputId": "c3e52612-acf0-426e-f54f-02b5659ab087"
      },
      "outputs": [],
      "source": [
        "geracao=dtUnificadaTrativa4_3.loc[dtUnificadaTrativa4_3['DATE_TIME'] > ('2020-05-22')].copy()\n",
        "\n",
        "geracao['Horário']=geracao['DATE_TIME'].dt.hour\n",
        "geracao['Data']=geracao['DATE_TIME'].dt.date\n",
        "\n",
        "# just for columns\n",
        "cols=geracao.groupby(['Horário','Data'])['AC_POWER'].mean().unstack()\n",
        "\n",
        "inversores = ['xoJJ8DcxJEcupym', 'WcxssY2VbP4hApt', '9kRcWv60rDACzjR', 'vOuJvMaM2sgwLmb', 'rrq4fwE8jgrTyWY', 'LYwnQax7tkwH5Cb', 'LlT2YUhhzqhg5Sw', 'q49J1IKaHRwDQnt', 'oZZkBaNadn6DNKz', 'PeE6FRyGXUgsRhN', '81aHJ1q11NBPMrL', 'V94E5Ben1TlhnDV']\n",
        "cores = ['royalblue', 'tomato', 'gold', 'lightgreen', 'plum', 'lightgray', 'blue', 'red', 'yellow', 'green', 'black', 'brown']\n",
        "\n",
        "inversores3259=dtUnificadaTrativa4_3.loc[dtUnificadaTrativa4_3['SOURCE_KEY']=='xoJJ8DcxJEcupym'].loc[(dtUnificadaTrativa4_3['DATE_TIME'] > ('2020-05-22')) & (dtUnificadaTrativa4_3['DATE_TIME'] < ('2020-05-26'))]\n",
        "inversores3259['Horário']=inversores3259['DATE_TIME'].dt.hour\n",
        "inversores3259['Data']=inversores3259['DATE_TIME'].dt.date\n",
        "\n",
        "ax=inversores3259.groupby(['Horário','Data'])['AC_POWER'].mean().unstack().plot(sharex=True,subplots=True,layout=(4,1),figsize=(10,15), color=cores[0])\n",
        "\n",
        "j=1\n",
        "for j in range(1,12):\n",
        "    inversores3259_2=dtUnificadaTrativa4_3.loc[dtUnificadaTrativa4_3['SOURCE_KEY']==inversores[j]].loc[(dtUnificadaTrativa4_3['DATE_TIME'] > ('2020-05-22')) & (dtUnificadaTrativa4_3['DATE_TIME'] < ('2020-05-26'))]\n",
        "    inversores3259_2['Horário']=inversores3259_2['DATE_TIME'].dt.hour\n",
        "    inversores3259_2['Data']=inversores3259_2['DATE_TIME'].dt.date\n",
        "    inversores3259_2.groupby(['Horário','Data'])['AC_POWER'].mean().unstack().plot(sharex=True,subplots=True,layout=(4,1),figsize=(10,15), color=cores[j], ax=ax)\n",
        "    j=j+1\n",
        "\n",
        "i=0\n",
        "for linha in range(len(ax)):\n",
        "    for coluna in range(len(ax[linha])):\n",
        "        ax[linha,coluna].set_title(cols.columns[i],size=15)\n",
        "        ax[linha,coluna].set_ylabel('Potência AC (kW)', size=15)\n",
        "        ax[linha,coluna].legend(inversores, bbox_to_anchor = (1.02, 1))\n",
        "        i=i+1\n",
        "\n",
        "plt.tight_layout()\n",
        "plt.savefig(diretorioImagens + '/energia_AC_inversores_sem_nulos_3.png', format='png', bbox_inches='tight')\n",
        "plt.show()"
      ]
    },
    {
      "cell_type": "code",
      "execution_count": null,
      "metadata": {
        "colab": {
          "base_uri": "https://localhost:8080/",
          "height": 1000
        },
        "id": "OuFbb9gLW0RG",
        "outputId": "9b455ddf-7fe2-430c-af13-40575fb31a4b"
      },
      "outputs": [],
      "source": [
        "geracao=dtUnificadaTrativa4_3.loc[dtUnificadaTrativa4_3['DATE_TIME'] > ('2020-05-26')].copy()\n",
        "\n",
        "geracao['Horário']=geracao['DATE_TIME'].dt.hour\n",
        "geracao['Data']=geracao['DATE_TIME'].dt.date\n",
        "\n",
        "# just for columns\n",
        "cols=geracao.groupby(['Horário','Data'])['AC_POWER'].mean().unstack()\n",
        "\n",
        "inversores = ['xoJJ8DcxJEcupym', 'WcxssY2VbP4hApt', '9kRcWv60rDACzjR', 'vOuJvMaM2sgwLmb', 'rrq4fwE8jgrTyWY', 'LYwnQax7tkwH5Cb', 'LlT2YUhhzqhg5Sw', 'q49J1IKaHRwDQnt', 'oZZkBaNadn6DNKz', 'PeE6FRyGXUgsRhN', '81aHJ1q11NBPMrL', 'V94E5Ben1TlhnDV']\n",
        "cores = ['royalblue', 'tomato', 'gold', 'lightgreen', 'plum', 'lightgray', 'blue', 'red', 'yellow', 'green', 'black', 'brown']\n",
        "\n",
        "inversores3259=dtUnificadaTrativa4_3.loc[dtUnificadaTrativa4_3['SOURCE_KEY']=='xoJJ8DcxJEcupym'].loc[(dtUnificadaTrativa4_3['DATE_TIME'] > ('2020-05-26')) & (dtUnificadaTrativa4_3['DATE_TIME'] < ('2020-05-30'))]\n",
        "inversores3259['Horário']=inversores3259['DATE_TIME'].dt.hour\n",
        "inversores3259['Data']=inversores3259['DATE_TIME'].dt.date\n",
        "\n",
        "ax=inversores3259.groupby(['Horário','Data'])['AC_POWER'].mean().unstack().plot(sharex=True,subplots=True,layout=(4,1),figsize=(10,15), color=cores[0])\n",
        "\n",
        "j=1\n",
        "for j in range(1,12):\n",
        "    inversores3259_2=dtUnificadaTrativa4_3.loc[dtUnificadaTrativa4_3['SOURCE_KEY']==inversores[j]].loc[(dtUnificadaTrativa4_3['DATE_TIME'] > ('2020-05-26')) & (dtUnificadaTrativa4_3['DATE_TIME'] < ('2020-05-30'))]\n",
        "    inversores3259_2['Horário']=inversores3259_2['DATE_TIME'].dt.hour\n",
        "    inversores3259_2['Data']=inversores3259_2['DATE_TIME'].dt.date\n",
        "    inversores3259_2.groupby(['Horário','Data'])['AC_POWER'].mean().unstack().plot(sharex=True,subplots=True,layout=(4,1),figsize=(10,15), color=cores[j], ax=ax)\n",
        "    j=j+1\n",
        "\n",
        "i=0\n",
        "for linha in range(len(ax)):\n",
        "    for coluna in range(len(ax[linha])):\n",
        "        ax[linha,coluna].set_title(cols.columns[i],size=15)\n",
        "        ax[linha,coluna].set_ylabel('Potência AC (kW)', size=15)\n",
        "        ax[linha,coluna].legend(inversores, bbox_to_anchor = (1.02, 1))\n",
        "        i=i+1\n",
        "\n",
        "plt.tight_layout()\n",
        "plt.savefig(diretorioImagens + '/energia_AC_inversores_sem_nulos_4.png', format='png', bbox_inches='tight')\n",
        "plt.show()"
      ]
    },
    {
      "cell_type": "code",
      "execution_count": null,
      "metadata": {
        "colab": {
          "base_uri": "https://localhost:8080/",
          "height": 1000
        },
        "id": "cONLN4djW2Lb",
        "outputId": "74ffb3a7-8b5c-4d29-90bc-fa89141318d2"
      },
      "outputs": [],
      "source": [
        "geracao=dtUnificadaTrativa4_3.loc[dtUnificadaTrativa4_3['DATE_TIME'] > ('2020-05-30')].copy()\n",
        "\n",
        "geracao['Horário']=geracao['DATE_TIME'].dt.hour\n",
        "geracao['Data']=geracao['DATE_TIME'].dt.date\n",
        "\n",
        "# just for columns\n",
        "cols=geracao.groupby(['Horário','Data'])['AC_POWER'].mean().unstack()\n",
        "\n",
        "inversores = ['xoJJ8DcxJEcupym', 'WcxssY2VbP4hApt', '9kRcWv60rDACzjR', 'vOuJvMaM2sgwLmb', 'rrq4fwE8jgrTyWY', 'LYwnQax7tkwH5Cb', 'LlT2YUhhzqhg5Sw', 'q49J1IKaHRwDQnt', 'oZZkBaNadn6DNKz', 'PeE6FRyGXUgsRhN', '81aHJ1q11NBPMrL', 'V94E5Ben1TlhnDV']\n",
        "cores = ['royalblue', 'tomato', 'gold', 'lightgreen', 'plum', 'lightgray', 'blue', 'red', 'yellow', 'green', 'black', 'brown']\n",
        "\n",
        "inversores3259=dtUnificadaTrativa4_3.loc[dtUnificadaTrativa4_3['SOURCE_KEY']=='xoJJ8DcxJEcupym'].loc[(dtUnificadaTrativa4_3['DATE_TIME'] > ('2020-05-30')) & (dtUnificadaTrativa4_3['DATE_TIME'] < ('2020-06-03'))]\n",
        "inversores3259['Horário']=inversores3259['DATE_TIME'].dt.hour\n",
        "inversores3259['Data']=inversores3259['DATE_TIME'].dt.date\n",
        "\n",
        "ax=inversores3259.groupby(['Horário','Data'])['AC_POWER'].mean().unstack().plot(sharex=True,subplots=True,layout=(4,1),figsize=(10,15), color=cores[0])\n",
        "\n",
        "j=1\n",
        "for j in range(1,12):\n",
        "    inversores3259_2=dtUnificadaTrativa4_3.loc[dtUnificadaTrativa4_3['SOURCE_KEY']==inversores[j]].loc[(dtUnificadaTrativa4_3['DATE_TIME'] > ('2020-05-30')) & (dtUnificadaTrativa4_3['DATE_TIME'] < ('2020-06-03'))]\n",
        "    inversores3259_2['Horário']=inversores3259_2['DATE_TIME'].dt.hour\n",
        "    inversores3259_2['Data']=inversores3259_2['DATE_TIME'].dt.date\n",
        "    inversores3259_2.groupby(['Horário','Data'])['AC_POWER'].mean().unstack().plot(sharex=True,subplots=True,layout=(4,1),figsize=(10,15), color=cores[j], ax=ax)\n",
        "    j=j+1\n",
        "\n",
        "i=0\n",
        "for linha in range(len(ax)):\n",
        "    for coluna in range(len(ax[linha])):\n",
        "        ax[linha,coluna].set_title(cols.columns[i],size=15)\n",
        "        ax[linha,coluna].set_ylabel('Potência AC (kW)', size=15)\n",
        "        ax[linha,coluna].legend(inversores, bbox_to_anchor = (1.02, 1))\n",
        "        i=i+1\n",
        "\n",
        "plt.tight_layout()\n",
        "plt.savefig(diretorioImagens + '/energia_AC_inversores_sem_nulos_5.png', format='png', bbox_inches='tight')\n",
        "plt.show()"
      ]
    },
    {
      "cell_type": "code",
      "execution_count": null,
      "metadata": {
        "colab": {
          "base_uri": "https://localhost:8080/",
          "height": 1000
        },
        "id": "Md6UV1jfW4ox",
        "outputId": "003fcd01-714f-4b00-f6e0-9fd326e1b8e9"
      },
      "outputs": [],
      "source": [
        "geracao=dtUnificadaTrativa4_3.loc[dtUnificadaTrativa4_3['DATE_TIME'] > ('2020-06-03')].copy()\n",
        "\n",
        "geracao['Horário']=geracao['DATE_TIME'].dt.hour\n",
        "geracao['Data']=geracao['DATE_TIME'].dt.date\n",
        "\n",
        "# just for columns\n",
        "cols=geracao.groupby(['Horário','Data'])['AC_POWER'].mean().unstack()\n",
        "\n",
        "inversores = ['xoJJ8DcxJEcupym', 'WcxssY2VbP4hApt', '9kRcWv60rDACzjR', 'vOuJvMaM2sgwLmb', 'rrq4fwE8jgrTyWY', 'LYwnQax7tkwH5Cb', 'LlT2YUhhzqhg5Sw', 'q49J1IKaHRwDQnt', 'oZZkBaNadn6DNKz', 'PeE6FRyGXUgsRhN', '81aHJ1q11NBPMrL', 'V94E5Ben1TlhnDV']\n",
        "cores = ['royalblue', 'tomato', 'gold', 'lightgreen', 'plum', 'lightgray', 'blue', 'red', 'yellow', 'green', 'black', 'brown']\n",
        "\n",
        "inversores3259=dtUnificadaTrativa4_3.loc[dtUnificadaTrativa4_3['SOURCE_KEY']=='xoJJ8DcxJEcupym'].loc[(dtUnificadaTrativa4_3['DATE_TIME'] > ('2020-06-03')) & (dtUnificadaTrativa4_3['DATE_TIME'] < ('2020-06-07'))]\n",
        "inversores3259['Horário']=inversores3259['DATE_TIME'].dt.hour\n",
        "inversores3259['Data']=inversores3259['DATE_TIME'].dt.date\n",
        "\n",
        "ax=inversores3259.groupby(['Horário','Data'])['AC_POWER'].mean().unstack().plot(sharex=True,subplots=True,layout=(4,1),figsize=(10,15), color=cores[0])\n",
        "\n",
        "j=1\n",
        "for j in range(1,12):\n",
        "    inversores3259_2=dtUnificadaTrativa4_3.loc[dtUnificadaTrativa4_3['SOURCE_KEY']==inversores[j]].loc[(dtUnificadaTrativa4_3['DATE_TIME'] > ('2020-06-03')) & (dtUnificadaTrativa4_3['DATE_TIME'] < ('2020-06-07'))]\n",
        "    inversores3259_2['Horário']=inversores3259_2['DATE_TIME'].dt.hour\n",
        "    inversores3259_2['Data']=inversores3259_2['DATE_TIME'].dt.date\n",
        "    inversores3259_2.groupby(['Horário','Data'])['AC_POWER'].mean().unstack().plot(sharex=True,subplots=True,layout=(4,1),figsize=(10,15), color=cores[j], ax=ax)\n",
        "    j=j+1\n",
        "\n",
        "i=0\n",
        "for linha in range(len(ax)):\n",
        "    for coluna in range(len(ax[linha])):\n",
        "        ax[linha,coluna].set_title(cols.columns[i],size=15)\n",
        "        ax[linha,coluna].set_ylabel('Potência AC (kW)', size=15)\n",
        "        ax[linha,coluna].legend(inversores, bbox_to_anchor = (1.02, 1))\n",
        "        i=i+1\n",
        "\n",
        "plt.tight_layout()\n",
        "plt.savefig(diretorioImagens + '/energia_AC_inversores_sem_nulos_6.png', format='png', bbox_inches='tight')\n",
        "plt.show()"
      ]
    },
    {
      "cell_type": "code",
      "execution_count": null,
      "metadata": {
        "colab": {
          "base_uri": "https://localhost:8080/",
          "height": 1000
        },
        "id": "M8a2e6AsW68U",
        "outputId": "a3d17346-9dc2-4b52-a2cc-b9451ec3588a"
      },
      "outputs": [],
      "source": [
        "geracao=dtUnificadaTrativa4_3.loc[dtUnificadaTrativa4_3['DATE_TIME'] > ('2020-06-07')].copy()\n",
        "\n",
        "geracao['Horário']=geracao['DATE_TIME'].dt.hour\n",
        "geracao['Data']=geracao['DATE_TIME'].dt.date\n",
        "\n",
        "# just for columns\n",
        "cols=geracao.groupby(['Horário','Data'])['AC_POWER'].mean().unstack()\n",
        "\n",
        "inversores = ['xoJJ8DcxJEcupym', 'WcxssY2VbP4hApt', '9kRcWv60rDACzjR', 'vOuJvMaM2sgwLmb', 'rrq4fwE8jgrTyWY', 'LYwnQax7tkwH5Cb', 'LlT2YUhhzqhg5Sw', 'q49J1IKaHRwDQnt', 'oZZkBaNadn6DNKz', 'PeE6FRyGXUgsRhN', '81aHJ1q11NBPMrL', 'V94E5Ben1TlhnDV']\n",
        "cores = ['royalblue', 'tomato', 'gold', 'lightgreen', 'plum', 'lightgray', 'blue', 'red', 'yellow', 'green', 'black', 'brown']\n",
        "\n",
        "inversores3259=dtUnificadaTrativa4_3.loc[dtUnificadaTrativa4_3['SOURCE_KEY']=='xoJJ8DcxJEcupym'].loc[(dtUnificadaTrativa4_3['DATE_TIME'] > ('2020-06-07')) & (dtUnificadaTrativa4_3['DATE_TIME'] < ('2020-06-11'))]\n",
        "inversores3259['Horário']=inversores3259['DATE_TIME'].dt.hour\n",
        "inversores3259['Data']=inversores3259['DATE_TIME'].dt.date\n",
        "\n",
        "ax=inversores3259.groupby(['Horário','Data'])['AC_POWER'].mean().unstack().plot(sharex=True,subplots=True,layout=(4,1),figsize=(10,15), color=cores[0])\n",
        "\n",
        "j=1\n",
        "for j in range(1,12):\n",
        "    inversores3259_2=dtUnificadaTrativa4_3.loc[dtUnificadaTrativa4_3['SOURCE_KEY']==inversores[j]].loc[(dtUnificadaTrativa4_3['DATE_TIME'] > ('2020-06-07')) & (dtUnificadaTrativa4_3['DATE_TIME'] < ('2020-06-11'))]\n",
        "    inversores3259_2['Horário']=inversores3259_2['DATE_TIME'].dt.hour\n",
        "    inversores3259_2['Data']=inversores3259_2['DATE_TIME'].dt.date\n",
        "    inversores3259_2.groupby(['Horário','Data'])['AC_POWER'].mean().unstack().plot(sharex=True,subplots=True,layout=(4,1),figsize=(10,15), color=cores[j], ax=ax)\n",
        "    j=j+1\n",
        "\n",
        "i=0\n",
        "for linha in range(len(ax)):\n",
        "    for coluna in range(len(ax[linha])):\n",
        "        ax[linha,coluna].set_title(cols.columns[i],size=15)\n",
        "        ax[linha,coluna].set_ylabel('Potência AC (kW)', size=15)\n",
        "        ax[linha,coluna].legend(inversores, bbox_to_anchor = (1.02, 1))\n",
        "        i=i+1\n",
        "\n",
        "plt.tight_layout()\n",
        "plt.savefig(diretorioImagens + '/energia_AC_inversores_sem_nulos_7.png', format='png', bbox_inches='tight')\n",
        "plt.show()"
      ]
    },
    {
      "cell_type": "code",
      "execution_count": null,
      "metadata": {
        "colab": {
          "base_uri": "https://localhost:8080/",
          "height": 1000
        },
        "id": "UY_FMk_pW-Pf",
        "outputId": "03c4deb3-105b-4a35-b2f1-a53dcab54c8d"
      },
      "outputs": [],
      "source": [
        "geracao=dtUnificadaTrativa4_3.loc[dtUnificadaTrativa4_3['DATE_TIME'] > ('2020-06-11')].copy()\n",
        "\n",
        "geracao['Horário']=geracao['DATE_TIME'].dt.hour\n",
        "geracao['Data']=geracao['DATE_TIME'].dt.date\n",
        "\n",
        "# just for columns\n",
        "cols=geracao.groupby(['Horário','Data'])['AC_POWER'].mean().unstack()\n",
        "\n",
        "inversores = ['xoJJ8DcxJEcupym', 'WcxssY2VbP4hApt', '9kRcWv60rDACzjR', 'vOuJvMaM2sgwLmb', 'rrq4fwE8jgrTyWY', 'LYwnQax7tkwH5Cb', 'LlT2YUhhzqhg5Sw', 'q49J1IKaHRwDQnt', 'oZZkBaNadn6DNKz', 'PeE6FRyGXUgsRhN', '81aHJ1q11NBPMrL', 'V94E5Ben1TlhnDV']\n",
        "cores = ['royalblue', 'tomato', 'gold', 'lightgreen', 'plum', 'lightgray', 'blue', 'red', 'yellow', 'green', 'black', 'brown']\n",
        "\n",
        "inversores3259=dtUnificadaTrativa4_3.loc[dtUnificadaTrativa4_3['SOURCE_KEY']=='xoJJ8DcxJEcupym'].loc[(dtUnificadaTrativa4_3['DATE_TIME'] > ('2020-06-11')) & (dtUnificadaTrativa4_3['DATE_TIME'] < ('2020-06-15'))]\n",
        "inversores3259['Horário']=inversores3259['DATE_TIME'].dt.hour\n",
        "inversores3259['Data']=inversores3259['DATE_TIME'].dt.date\n",
        "\n",
        "ax=inversores3259.groupby(['Horário','Data'])['AC_POWER'].mean().unstack().plot(sharex=True,subplots=True,layout=(4,1),figsize=(10,15), color=cores[0])\n",
        "\n",
        "j=1\n",
        "for j in range(1,12):\n",
        "    inversores3259_2=dtUnificadaTrativa4_3.loc[dtUnificadaTrativa4_3['SOURCE_KEY']==inversores[j]].loc[(dtUnificadaTrativa4_3['DATE_TIME'] > ('2020-06-11')) & (dtUnificadaTrativa4_3['DATE_TIME'] < ('2020-06-15'))]\n",
        "    inversores3259_2['Horário']=inversores3259_2['DATE_TIME'].dt.hour\n",
        "    inversores3259_2['Data']=inversores3259_2['DATE_TIME'].dt.date\n",
        "    inversores3259_2.groupby(['Horário','Data'])['AC_POWER'].mean().unstack().plot(sharex=True,subplots=True,layout=(4,1),figsize=(10,15), color=cores[j], ax=ax)\n",
        "    j=j+1\n",
        "\n",
        "i=0\n",
        "for linha in range(len(ax)):\n",
        "    for coluna in range(len(ax[linha])):\n",
        "        ax[linha,coluna].set_title(cols.columns[i],size=15)\n",
        "        ax[linha,coluna].set_ylabel('Potência AC (kW)', size=15)\n",
        "        ax[linha,coluna].legend(inversores, bbox_to_anchor = (1.02, 1))\n",
        "        i=i+1\n",
        "\n",
        "plt.tight_layout()\n",
        "plt.savefig(diretorioImagens + '/energia_AC_inversores_sem_nulos_8.png', format='png', bbox_inches='tight')\n",
        "plt.show()"
      ]
    },
    {
      "cell_type": "code",
      "execution_count": null,
      "metadata": {
        "colab": {
          "base_uri": "https://localhost:8080/",
          "height": 1000
        },
        "id": "l6M_FU1QXAML",
        "outputId": "0790539c-d03c-40df-86e5-68f5713b2189"
      },
      "outputs": [],
      "source": [
        "geracao=dtUnificadaTrativa4_3.loc[dtUnificadaTrativa4_3['DATE_TIME'] > ('2020-06-15')].copy()\n",
        "\n",
        "geracao['Horário']=geracao['DATE_TIME'].dt.hour\n",
        "geracao['Data']=geracao['DATE_TIME'].dt.date\n",
        "\n",
        "# just for columns\n",
        "cols=geracao.groupby(['Horário','Data'])['AC_POWER'].mean().unstack()\n",
        "\n",
        "inversores = ['xoJJ8DcxJEcupym', 'WcxssY2VbP4hApt', '9kRcWv60rDACzjR', 'vOuJvMaM2sgwLmb', 'rrq4fwE8jgrTyWY', 'LYwnQax7tkwH5Cb', 'LlT2YUhhzqhg5Sw', 'q49J1IKaHRwDQnt', 'oZZkBaNadn6DNKz', 'PeE6FRyGXUgsRhN', '81aHJ1q11NBPMrL', 'V94E5Ben1TlhnDV']\n",
        "cores = ['royalblue', 'tomato', 'gold', 'lightgreen', 'plum', 'lightgray', 'blue', 'red', 'yellow', 'green', 'black', 'brown']\n",
        "\n",
        "inversores3259=dtUnificadaTrativa4_3.loc[dtUnificadaTrativa4_3['SOURCE_KEY']=='xoJJ8DcxJEcupym'].loc[(dtUnificadaTrativa4_3['DATE_TIME'] > ('2020-06-15')) & (dtUnificadaTrativa4_3['DATE_TIME'] < ('2020-06-18'))]\n",
        "inversores3259['Horário']=inversores3259['DATE_TIME'].dt.hour\n",
        "inversores3259['Data']=inversores3259['DATE_TIME'].dt.date\n",
        "\n",
        "ax=inversores3259.groupby(['Horário','Data'])['AC_POWER'].mean().unstack().plot(sharex=True,subplots=True,layout=(3,1),figsize=(10,12), color=cores[0])\n",
        "\n",
        "j=1\n",
        "for j in range(1,12):\n",
        "    inversores3259_2=dtUnificadaTrativa4_3.loc[dtUnificadaTrativa4_3['SOURCE_KEY']==inversores[j]].loc[(dtUnificadaTrativa4_3['DATE_TIME'] > ('2020-06-15')) & (dtUnificadaTrativa4_3['DATE_TIME'] < ('2020-06-18'))]\n",
        "    inversores3259_2['Horário']=inversores3259_2['DATE_TIME'].dt.hour\n",
        "    inversores3259_2['Data']=inversores3259_2['DATE_TIME'].dt.date\n",
        "    inversores3259_2.groupby(['Horário','Data'])['AC_POWER'].mean().unstack().plot(sharex=True,subplots=True,layout=(3,1),figsize=(10,12), color=cores[j], ax=ax)\n",
        "    j=j+1\n",
        "\n",
        "i=0\n",
        "for linha in range(len(ax)):\n",
        "    for coluna in range(len(ax[linha])):\n",
        "        ax[linha,coluna].set_title(cols.columns[i],size=15)\n",
        "        ax[linha,coluna].set_ylabel('Potência AC (kW)', size=15)\n",
        "        ax[linha,coluna].legend(inversores, bbox_to_anchor = (1.02, 1))\n",
        "        i=i+1\n",
        "\n",
        "plt.tight_layout()\n",
        "plt.savefig(diretorioImagens + '/energia_AC_inversores_sem_nulos_9.png', format='png', bbox_inches='tight')\n",
        "plt.show()"
      ]
    },
    {
      "cell_type": "markdown",
      "metadata": {
        "id": "TMd5R_7NXGot"
      },
      "source": [
        "Com as trativas realizadas, obtivemos uma simetria muito melhor para todos os atributos, agora todos estão próximos de zero, quanto mais próximo de zero, mais simétrica é a distribuição dos dados."
      ]
    },
    {
      "cell_type": "markdown",
      "metadata": {
        "id": "ZeoLV_QbXWIX"
      },
      "source": [
        "## 3.6 Correlação"
      ]
    },
    {
      "cell_type": "code",
      "execution_count": null,
      "metadata": {
        "colab": {
          "base_uri": "https://localhost:8080/",
          "height": 0
        },
        "id": "kDrYrNcwHYaY",
        "outputId": "03fb59ec-f553-4a51-cb31-9ede5f5fe156"
      },
      "outputs": [],
      "source": [
        "# Posiciona o atributo a ser previsto na última coluna do dataset\n",
        "colunaACPower = dtUnificadaTrativa4_3['AC_POWER']\n",
        "dtUnificadaTratativa4_4 = dtUnificadaTrativa4_3.copy()\n",
        "dtUnificadaTratativa4_4 = dtUnificadaTratativa4_4.drop(['AC_POWER'], axis=1)\n",
        "dtUnificadaTratativa4_4[\"AC_POWER\"] = colunaACPower\n",
        "\n",
        "dtUnificadaTratativa4_4"
      ]
    },
    {
      "cell_type": "code",
      "execution_count": null,
      "metadata": {
        "colab": {
          "base_uri": "https://localhost:8080/",
          "height": 0
        },
        "id": "RKaxNZnTIAwB",
        "outputId": "446a9678-10c4-4157-8d4a-55528d80efea"
      },
      "outputs": [],
      "source": [
        "# Cria coluna \"AC_POWER_FUTURO\"\n",
        "dtUnificadaTratativa4_4[\"AC_POWER_FUTURO\"] = colunaACPower.shift(-1)\n",
        "dtUnificadaTratativa4_4 = dtUnificadaTratativa4_4.dropna()\n",
        "\n",
        "dtUnificadaTratativa4_4"
      ]
    },
    {
      "cell_type": "code",
      "execution_count": null,
      "metadata": {
        "colab": {
          "base_uri": "https://localhost:8080/",
          "height": 0
        },
        "id": "sDqGFGENLKwb",
        "outputId": "d05c56b8-cc9f-417b-b0e3-a7221400322f"
      },
      "outputs": [],
      "source": [
        "# Remover atributos DAILY_YIELD e TOTAL_YIELD\n",
        "\n",
        "dtUnificadaTratativa4_5 = dtUnificadaTratativa4_4.copy()\n",
        "dtUnificadaTratativa4_5 = dtUnificadaTratativa4_5.drop(['DAILY_YIELD', 'TOTAL_YIELD'], axis=1)\n",
        "\n",
        "dtUnificadaTratativa4_5"
      ]
    },
    {
      "cell_type": "markdown",
      "metadata": {
        "id": "F5rIpDQKXbhr"
      },
      "source": [
        "A seguir será visto o quanto cada atributo se correlaciona com a energia gerada (AC_POWER). Percebe-se uma forte correlação positiva, tirando a DC_POWER, na irradiação e na temperatura do módulo, o que faz sentido, visto que quanto maior a irradiação solar, maior deve ser a energia gerada, e quanto maior a irradiação sobre os módulos, maior será sua temperatura. Os atributos de rendimento e tempo por sua vez, mostram que não existe uma correlação linear com a geração de energia, visto que os coeficientes são muito próximos de zero.\n",
        "\n",
        "A baixa correlação para as variáveis de tempo, pode se dar pela baixa quantidade de dados da amostra."
      ]
    },
    {
      "cell_type": "code",
      "execution_count": null,
      "metadata": {
        "colab": {
          "base_uri": "https://localhost:8080/"
        },
        "id": "I5LXylNeXYF4",
        "outputId": "1c2f74f1-7a07-4a0b-8d33-12b2d884d26e"
      },
      "outputs": [],
      "source": [
        "corr_matrix = dtUnificadaTratativa4_5.corr()\n",
        "\n",
        "corr_matrix[\"AC_POWER_FUTURO\"].sort_values(ascending=False)"
      ]
    },
    {
      "cell_type": "code",
      "execution_count": null,
      "metadata": {
        "colab": {
          "base_uri": "https://localhost:8080/",
          "height": 0
        },
        "id": "46SZYWAGXe6X",
        "outputId": "acc58fce-fe74-46ad-931a-6ed5b3cd451e"
      },
      "outputs": [],
      "source": [
        "fig = plt.figure(figsize = (10, 10))\n",
        "\n",
        "sns.heatmap(dtUnificadaTratativa4_4.corr(method = 'pearson'), annot = True, square = True)\n",
        "plt.show()\n",
        "fig.savefig(diretorioImagens + '/corr_all.png', format='png', bbox_inches='tight')"
      ]
    },
    {
      "cell_type": "markdown",
      "metadata": {
        "id": "WufVjUB-Xh4F"
      },
      "source": [
        "No gráfico acima, percebe-se que a colinearidade entre os atributos de temperatura são muito próximas de 1, o que pode ser um forte indício de multicolinearidade, ou seja, dois atributos que representam a mesma coisa. Fica evidente que o atributo de potência DC é multicolinear com o atributo de potência AC, mas isto já era perceptível com a análise gráfica de geração de energia."
      ]
    },
    {
      "cell_type": "markdown",
      "metadata": {
        "id": "W8wgntE-XiUQ"
      },
      "source": [
        "Visto que os atributos de rendimento não apresentam influência no atributo de geração de energia, supõe-se que estes serão excluídos da amostra de dados, mas antes, será realizada uma análise de multicolinearidade entre as variáveis independentes."
      ]
    },
    {
      "cell_type": "markdown",
      "metadata": {
        "id": "cleWGV1cXj4Y"
      },
      "source": [
        "### 3.7.1 Multicolinearidade"
      ]
    },
    {
      "cell_type": "markdown",
      "metadata": {
        "id": "JA7CxdzLXouH"
      },
      "source": [
        "Na multicolinearidade se tem atributos preditores que se correlacionam com outros preditores, são atributos redundantes na amostra de dados."
      ]
    },
    {
      "cell_type": "code",
      "execution_count": null,
      "metadata": {
        "colab": {
          "base_uri": "https://localhost:8080/"
        },
        "id": "WB-3KtsnXmwl",
        "outputId": "7b01bdec-c576-4598-e6c4-587f425cd282"
      },
      "outputs": [],
      "source": [
        "dtX = dtUnificadaTratativa4_5.copy()\n",
        "dtX = dtX.drop(['DATE_TIME', 'SOURCE_KEY', 'DC_POWER', 'AC_POWER_FUTURO'], axis = 1)\n",
        "\n",
        "# Gerando matriz de correlação e recombinando\n",
        "corr = np.corrcoef(dtX, rowvar = 0)\n",
        "autovalor, autovetor = np.linalg.eig(corr)\n",
        "\n",
        "menor = 999\n",
        "index = 0\n",
        "for i, val in enumerate(autovalor):\n",
        "    if val < menor:\n",
        "        menor = val\n",
        "        index = i\n",
        "\n",
        "print('Menor autovalor:', menor, 'Index:', index)"
      ]
    },
    {
      "cell_type": "code",
      "execution_count": null,
      "metadata": {
        "colab": {
          "base_uri": "https://localhost:8080/"
        },
        "id": "QVBJ4qR5XrSN",
        "outputId": "324eb935-8b32-403f-854c-750f85cdb460"
      },
      "outputs": [],
      "source": [
        "menorAutovetor = abs(autovetor[:, 5])\n",
        "\n",
        "for i, val in enumerate(autovetor[:, 5]):\n",
        "    print('Variável', i,':', abs(val))"
      ]
    },
    {
      "cell_type": "code",
      "execution_count": null,
      "metadata": {
        "colab": {
          "base_uri": "https://localhost:8080/"
        },
        "id": "FVyfrbWzXuH3",
        "outputId": "ca271812-77aa-4691-e810-e4d0edf7c695"
      },
      "outputs": [],
      "source": [
        "# Exibir atributos com o maior valor absoluto para o autovetor\n",
        "colunas = dtX.columns\n",
        "\n",
        "colunas[[5, 2, 0, 1]]"
      ]
    },
    {
      "cell_type": "markdown",
      "metadata": {
        "id": "3Zz_gUSGXwi1"
      },
      "source": [
        "Atributos com valores VIF próximos de 1, indicam que não existe correlação entre eles, a seguir é calculado o valor VIF para todos os atributos independentes da amostra."
      ]
    },
    {
      "cell_type": "code",
      "execution_count": null,
      "metadata": {
        "colab": {
          "base_uri": "https://localhost:8080/",
          "height": 0
        },
        "id": "2_yQTaqQXw2k",
        "outputId": "eb447aa6-302d-4b1f-e366-13114eb44c27"
      },
      "outputs": [],
      "source": [
        "def calcular_VIF(X):\n",
        "    vif = pd.DataFrame()\n",
        "    vif['Atributos'] = X.columns\n",
        "    vif['VIF'] = [variance_inflation_factor(X.values, i) for i in range(X.shape[1])]\n",
        "    \n",
        "    return vif\n",
        "\n",
        "calcular_VIF(dtX)"
      ]
    },
    {
      "cell_type": "markdown",
      "metadata": {
        "id": "5pU0THhIDFfn"
      },
      "source": [
        "Percebe-se um alto valor para os atributos de temperatura e irradiação. Primeiramente será removido o atributo 'AMBIENT_TEMPERATURE' e em seguida o VIF será novamente calculado."
      ]
    },
    {
      "cell_type": "code",
      "execution_count": null,
      "metadata": {
        "colab": {
          "base_uri": "https://localhost:8080/",
          "height": 0
        },
        "id": "hAkAfemLDFCN",
        "outputId": "7a3c6dc1-3de5-41d0-de2e-23ff4b12dee7"
      },
      "outputs": [],
      "source": [
        "dtX = dtUnificadaTratativa4_5.copy()\n",
        "dtX = dtX.drop(['DATE_TIME', 'SOURCE_KEY', 'DC_POWER', 'AMBIENT_TEMPERATURE', 'AC_POWER_FUTURO'], axis = 1)\n",
        "\n",
        "calcular_VIF(dtX)"
      ]
    },
    {
      "cell_type": "code",
      "execution_count": null,
      "metadata": {
        "colab": {
          "base_uri": "https://localhost:8080/",
          "height": 0
        },
        "id": "QoNRw_ajDIfk",
        "outputId": "b2d0b8c2-06bf-44c5-bab4-ee48cbef8639"
      },
      "outputs": [],
      "source": [
        "dtX = dtUnificadaTratativa4_5.copy()\n",
        "dtX = dtX.drop(['DATE_TIME', 'SOURCE_KEY', 'DC_POWER', 'AMBIENT_TEMPERATURE', 'AC_POWER_FUTURO', 'MODULE_TEMPERATURE'], axis = 1)\n",
        "\n",
        "calcular_VIF(dtX)"
      ]
    },
    {
      "cell_type": "code",
      "execution_count": null,
      "metadata": {
        "colab": {
          "base_uri": "https://localhost:8080/",
          "height": 0
        },
        "id": "_Zjz5RpVDJ7m",
        "outputId": "cb49364b-aedf-4b08-892e-39c1ad5cfc66"
      },
      "outputs": [],
      "source": [
        "dtX = dtUnificadaTratativa4_5.copy()\n",
        "dtX = dtX.drop(['DATE_TIME', 'SOURCE_KEY', 'DC_POWER', 'AMBIENT_TEMPERATURE', 'AC_POWER_FUTURO', 'MODULE_TEMPERATURE', 'AC_POWER'], axis = 1)\n",
        "\n",
        "calcular_VIF(dtX)"
      ]
    },
    {
      "cell_type": "markdown",
      "metadata": {
        "id": "9RZmy788D6tQ"
      },
      "source": [
        "## 3.7 Relatório OLS"
      ]
    },
    {
      "cell_type": "code",
      "execution_count": null,
      "metadata": {
        "colab": {
          "base_uri": "https://localhost:8080/",
          "height": 663
        },
        "id": "-X9fOP6g4Ywf",
        "outputId": "9318adec-a426-46df-f0b1-abbbc97ebd5e"
      },
      "outputs": [],
      "source": [
        "# Carregando atributos com exceção do atributo alvo\n",
        "X = dtUnificadaTratativa4_5.drop(['DATE_TIME', 'SOURCE_KEY', 'AC_POWER_FUTURO', 'DC_POWER'], axis = 1)\n",
        "Xc = sm.add_constant(X)\n",
        "\n",
        "y = dtUnificadaTratativa4_5['AC_POWER_FUTURO'].values\n",
        "\n",
        "# Criando e treinando modelo\n",
        "modelo = sm.OLS(y, Xc)\n",
        "modelo1 = modelo.fit()\n",
        "\n",
        "# Visualizando resumo do modelo\n",
        "modelo1.summary()"
      ]
    },
    {
      "cell_type": "markdown",
      "metadata": {
        "id": "5IcH9nj-DYto"
      },
      "source": [
        "O modelo explica 92% da variância dos dados.\n",
        "\n",
        "Percebe-se que os atributos HOUR e MODULE_TEMPERATURE apresentaram um valor muito baixo para t, o que indica uma baixa relevância para o modelo preditivo."
      ]
    },
    {
      "cell_type": "code",
      "execution_count": null,
      "metadata": {
        "colab": {
          "base_uri": "https://localhost:8080/",
          "height": 564
        },
        "id": "iLQN6OfMDW9Y",
        "outputId": "1b061f42-8d5f-4d64-cda5-7560514e95a6"
      },
      "outputs": [],
      "source": [
        "# Carregando atributos com exceção do atributo alvo\n",
        "X = dtUnificadaTratativa4_5.drop(['DATE_TIME', 'SOURCE_KEY', 'DC_POWER', 'AMBIENT_TEMPERATURE', 'AC_POWER_FUTURO', 'MODULE_TEMPERATURE', 'AC_POWER'], axis = 1)\n",
        "Xc = sm.add_constant(X)\n",
        "\n",
        "y = dtUnificadaTratativa4_5['AC_POWER_FUTURO'].values\n",
        "\n",
        "# Criando e treinando modelo\n",
        "modelo = sm.OLS(y, Xc)\n",
        "modelo2 = modelo.fit()\n",
        "\n",
        "# Visualizando resumo do modelo\n",
        "modelo2.summary()"
      ]
    },
    {
      "cell_type": "code",
      "execution_count": null,
      "metadata": {
        "colab": {
          "base_uri": "https://localhost:8080/",
          "height": 521
        },
        "id": "5UwBO9bBXuEq",
        "outputId": "bd65a9ba-4672-48dd-fb9e-eaa20e600c93"
      },
      "outputs": [],
      "source": [
        "# Carregando atributos com exceção do atributo alvo\n",
        "X = dtUnificadaTratativa4_5.drop(['DATE_TIME', 'SOURCE_KEY', 'DC_POWER', 'AMBIENT_TEMPERATURE', 'AC_POWER_FUTURO', 'MODULE_TEMPERATURE', 'AC_POWER', 'DAY', 'HOUR'], axis = 1)\n",
        "Xc = sm.add_constant(X)\n",
        "\n",
        "y = dtUnificadaTratativa4_5['AC_POWER_FUTURO'].values\n",
        "\n",
        "# Criando e treinando modelo\n",
        "modelo = sm.OLS(y, Xc)\n",
        "modelo2 = modelo.fit()\n",
        "\n",
        "# Visualizando resumo do modelo\n",
        "modelo2.summary()"
      ]
    },
    {
      "cell_type": "code",
      "execution_count": null,
      "metadata": {
        "colab": {
          "base_uri": "https://localhost:8080/",
          "height": 300
        },
        "id": "of8k9W6PDkmE",
        "outputId": "79446f20-e1f3-46a7-d256-a0210aee5dcf"
      },
      "outputs": [],
      "source": [
        "# Excluir atributos independentes descartados com a análise de correlação e multicolinearidade\n",
        "\n",
        "dtUnificadaTratativa5 = dtUnificadaTratativa4_5.drop(['DC_POWER'], axis = 1)\n",
        "dtTratadaCompleta = dtUnificadaTratativa5.copy()\n",
        "\n",
        "dtUnificadaTratativa5.describe()"
      ]
    },
    {
      "cell_type": "code",
      "execution_count": null,
      "metadata": {
        "colab": {
          "base_uri": "https://localhost:8080/",
          "height": 300
        },
        "id": "5bGchp8L8K1A",
        "outputId": "31a6fb6e-52f1-40b4-a78a-999118d41340"
      },
      "outputs": [],
      "source": [
        "dtTratadaCompleta.describe()"
      ]
    },
    {
      "cell_type": "code",
      "execution_count": null,
      "metadata": {
        "colab": {
          "base_uri": "https://localhost:8080/"
        },
        "id": "W2_cuyyRDl-3",
        "outputId": "bb18ad5a-4110-4627-ea7d-5659ac893165"
      },
      "outputs": [],
      "source": [
        "dtUnificadaTratativa5[\"SOURCE_KEY\"].value_counts()"
      ]
    },
    {
      "cell_type": "markdown",
      "metadata": {
        "id": "J6SXvoNXD_NW"
      },
      "source": [
        "## 3.8 Outliers"
      ]
    },
    {
      "cell_type": "code",
      "execution_count": null,
      "metadata": {
        "id": "w5-rAKS1EA76"
      },
      "outputs": [],
      "source": [
        "def boxplot_individuais(data, colunas, largura = 10, altura = 8):\n",
        "    fig = plt.figure()\n",
        "    fig.subplots_adjust(hspace = 0.4, wspace = 0.4)\n",
        "    fig.set_figheight(altura)\n",
        "    fig.set_figwidth(largura)\n",
        "    \n",
        "    ajusteColunas = math.ceil(len(colunas) / 2)\n",
        "    \n",
        "    for i, coluna in enumerate(colunas):\n",
        "        ax = fig.add_subplot(ajusteColunas, 2, i + 1)\n",
        "        sns.boxplot(x = data[coluna])\n",
        "        \n",
        "    plt.tight_layout()\n",
        "    plt.savefig(diretorioImagens + '/outliers.png')  \n",
        "    plt.show()"
      ]
    },
    {
      "cell_type": "markdown",
      "metadata": {
        "id": "IWXQlmBeEDrK"
      },
      "source": [
        "Pode-se ver que nenhum atributo apresenta valores extremos, que fujam muito do padrão."
      ]
    },
    {
      "cell_type": "code",
      "execution_count": null,
      "metadata": {
        "colab": {
          "base_uri": "https://localhost:8080/",
          "height": 585
        },
        "id": "j_0YpJISEFBQ",
        "outputId": "7ba62e55-7c9a-4dee-e68c-6f6b70ad1759"
      },
      "outputs": [],
      "source": [
        "# Separa os valores qualitativos da amostra\n",
        "qualitativos = dtUnificadaTratativa5.drop([\"AC_POWER\", \"IRRADIATION\"], axis = 1).columns\n",
        "\n",
        "# Retira valores qualitativos da amostra (Data e número de identificação dos inversores)\n",
        "quantitativos = dtUnificadaTratativa5.drop(['DATE_TIME', 'SOURCE_KEY', 'AC_POWER_FUTURO', \"HOUR\", \"DAY\"], axis = 1).columns\n",
        "\n",
        "boxplot_individuais(dtUnificadaTratativa5, quantitativos[0:5])"
      ]
    },
    {
      "cell_type": "markdown",
      "metadata": {
        "id": "e8AsC7aNEHVQ"
      },
      "source": [
        "## 3.9 Normalização"
      ]
    },
    {
      "cell_type": "code",
      "execution_count": null,
      "metadata": {
        "colab": {
          "base_uri": "https://localhost:8080/",
          "height": 424
        },
        "id": "V5sQyxJ1EI-e",
        "outputId": "71a10b2e-2195-4ad4-ea61-b53c410531f8"
      },
      "outputs": [],
      "source": [
        "dtUnificadaTratativa5[quantitativos]"
      ]
    },
    {
      "cell_type": "code",
      "execution_count": null,
      "metadata": {
        "colab": {
          "base_uri": "https://localhost:8080/",
          "height": 424
        },
        "id": "nDcEqiYa6ZOa",
        "outputId": "14c6f640-98f1-42b6-fce8-d9b290db0970"
      },
      "outputs": [],
      "source": [
        "dtTratadaCompleta"
      ]
    },
    {
      "cell_type": "code",
      "execution_count": null,
      "metadata": {
        "id": "fP1H1Wi6BCrv"
      },
      "outputs": [],
      "source": [
        "#dtNormalizada.to_csv(diretorioDados + '/planilha_tratada_normalizada_completa.csv')\n",
        "dtTratadaCompleta.to_csv(diretorioDados + '/planilha_tratada_completa_2.csv')"
      ]
    },
    {
      "cell_type": "code",
      "execution_count": null,
      "metadata": {
        "id": "5E73Ffrvmawh"
      },
      "outputs": [],
      "source": [
        "#dtUnificadaTrativaNormalizadaCompleta.to_csv(diretorioDados + '/planilha_tratada_normalizada.csv')\n",
        "#dtUnificadaTratativa5.to_csv(diretorioDados + '/planilha_tratada.csv')"
      ]
    }
  ],
  "metadata": {
    "colab": {
      "authorship_tag": "ABX9TyME3BAsyEmmGCw33qIipLO0",
      "collapsed_sections": [
        "1UGlXLsnpNqY",
        "RlTcXlnArzrf",
        "dXN0sMdPrvpg",
        "ujobuFb6rozO",
        "m2PN86HhVweN",
        "lcXWzkVHklM5",
        "JSduTVD8Wrd1",
        "ZeoLV_QbXWIX"
      ],
      "include_colab_link": true,
      "mount_file_id": "1NRzgaDQ3qK-9VfgMFxCqAy8N9Qmzy8pj",
      "name": "AED.ipynb",
      "provenance": [],
      "toc_visible": true
    },
    "kernelspec": {
      "display_name": "Python 3",
      "name": "python3"
    },
    "language_info": {
      "codemirror_mode": {
        "name": "ipython",
        "version": 3
      },
      "file_extension": ".py",
      "mimetype": "text/x-python",
      "name": "python",
      "nbconvert_exporter": "python",
      "pygments_lexer": "ipython3",
      "version": "3.11.4"
    }
  },
  "nbformat": 4,
  "nbformat_minor": 0
}
